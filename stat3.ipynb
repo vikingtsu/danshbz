{
 "cells": [
  {
   "cell_type": "code",
   "execution_count": 38,
   "metadata": {},
   "outputs": [],
   "source": [
    "import pandas as pd\n",
    "import numpy as np\n",
    "import scipy.stats\n",
    "import matplotlib.pyplot as plt\n",
    "from scipy import stats\n"
   ]
  },
  {
   "cell_type": "code",
   "execution_count": 39,
   "metadata": {},
   "outputs": [],
   "source": [
    "df1=pd.read_csv(\"danz.csv-6m-ball\")\n",
    "df2=pd.read_csv(\"danz.csv-3m-ball\")\n",
    "df=pd.concat([df1,df2])\n",
    "df=df.dropna(how='all')\n",
    "df=df.dropna(how='all',axis='columns')\n",
    "\n",
    "f5=df['Capture002_export'].astype(float)\n",
    "f6=df['Capture003_export'].astype(float)\n",
    "f7=df['Capture004_export'].astype(float)\n",
    "f8=df['Capture005_export'].astype(float)\n",
    "f9=df['Capture006_export'].astype(float)\n",
    "\n",
    "f14=df['Capture007_export'].astype(float)\n",
    "f15=df['Capture008_export'].astype(float)\n",
    "f16=df['Capture009_export'].astype(float)\n",
    "f17=df['Capture010_export'].astype(float)\n",
    "f18=df['Capture011_export'].astype(float)\n"
   ]
  },
  {
   "cell_type": "code",
   "execution_count": 40,
   "metadata": {},
   "outputs": [
    {
     "output_type": "execute_result",
     "data": {
      "text/plain": "    Capture006_export  Capture005_export  Capture004_export  \\\n0          238.008198         198.340165         343.789620   \n1          357.012298         330.566942         330.566942   \n2          330.566942         343.789620         317.344265   \n3          317.344265         343.789620         317.344265   \n4          304.121587         317.344265         317.344265   \n..                ...                ...                ...   \n23                NaN                NaN                NaN   \n24                NaN                NaN                NaN   \n25                NaN                NaN                NaN   \n26                NaN                NaN                NaN   \n27                NaN                NaN                NaN   \n\n    Capture003_export  Capture002_export  Capture011_export  \\\n0          185.117488         158.672132                NaN   \n1          317.344265         370.234975                NaN   \n2          290.898909         330.566942                NaN   \n3          304.121587         343.789620                NaN   \n4          317.344265         317.344265                NaN   \n..                ...                ...                ...   \n23                NaN                NaN         324.115984   \n24                NaN                NaN         330.730596   \n25                NaN                NaN         343.959820   \n26                NaN                NaN         337.345208   \n27                NaN                NaN         300.964842   \n\n    Capture010_export  Capture009_export  Capture008_export  Capture007_export  \n0                 NaN                NaN                NaN                NaN  \n1                 NaN                NaN                NaN                NaN  \n2                 NaN                NaN                NaN                NaN  \n3                 NaN                NaN                NaN                NaN  \n4                 NaN                NaN                NaN                NaN  \n..                ...                ...                ...                ...  \n23         324.115984         330.730596         337.345208         320.808678  \n24         324.115984         330.730596         327.423290         324.115984  \n25         337.345208         330.730596         324.115984         327.423290  \n26         287.735619         340.652514         324.115984          13.229224  \n27                NaN         198.438358         320.808678          13.229224  \n\n[71 rows x 10 columns]",
      "text/html": "<div>\n<style scoped>\n    .dataframe tbody tr th:only-of-type {\n        vertical-align: middle;\n    }\n\n    .dataframe tbody tr th {\n        vertical-align: top;\n    }\n\n    .dataframe thead th {\n        text-align: right;\n    }\n</style>\n<table border=\"1\" class=\"dataframe\">\n  <thead>\n    <tr style=\"text-align: right;\">\n      <th></th>\n      <th>Capture006_export</th>\n      <th>Capture005_export</th>\n      <th>Capture004_export</th>\n      <th>Capture003_export</th>\n      <th>Capture002_export</th>\n      <th>Capture011_export</th>\n      <th>Capture010_export</th>\n      <th>Capture009_export</th>\n      <th>Capture008_export</th>\n      <th>Capture007_export</th>\n    </tr>\n  </thead>\n  <tbody>\n    <tr>\n      <th>0</th>\n      <td>238.008198</td>\n      <td>198.340165</td>\n      <td>343.789620</td>\n      <td>185.117488</td>\n      <td>158.672132</td>\n      <td>NaN</td>\n      <td>NaN</td>\n      <td>NaN</td>\n      <td>NaN</td>\n      <td>NaN</td>\n    </tr>\n    <tr>\n      <th>1</th>\n      <td>357.012298</td>\n      <td>330.566942</td>\n      <td>330.566942</td>\n      <td>317.344265</td>\n      <td>370.234975</td>\n      <td>NaN</td>\n      <td>NaN</td>\n      <td>NaN</td>\n      <td>NaN</td>\n      <td>NaN</td>\n    </tr>\n    <tr>\n      <th>2</th>\n      <td>330.566942</td>\n      <td>343.789620</td>\n      <td>317.344265</td>\n      <td>290.898909</td>\n      <td>330.566942</td>\n      <td>NaN</td>\n      <td>NaN</td>\n      <td>NaN</td>\n      <td>NaN</td>\n      <td>NaN</td>\n    </tr>\n    <tr>\n      <th>3</th>\n      <td>317.344265</td>\n      <td>343.789620</td>\n      <td>317.344265</td>\n      <td>304.121587</td>\n      <td>343.789620</td>\n      <td>NaN</td>\n      <td>NaN</td>\n      <td>NaN</td>\n      <td>NaN</td>\n      <td>NaN</td>\n    </tr>\n    <tr>\n      <th>4</th>\n      <td>304.121587</td>\n      <td>317.344265</td>\n      <td>317.344265</td>\n      <td>317.344265</td>\n      <td>317.344265</td>\n      <td>NaN</td>\n      <td>NaN</td>\n      <td>NaN</td>\n      <td>NaN</td>\n      <td>NaN</td>\n    </tr>\n    <tr>\n      <th>...</th>\n      <td>...</td>\n      <td>...</td>\n      <td>...</td>\n      <td>...</td>\n      <td>...</td>\n      <td>...</td>\n      <td>...</td>\n      <td>...</td>\n      <td>...</td>\n      <td>...</td>\n    </tr>\n    <tr>\n      <th>23</th>\n      <td>NaN</td>\n      <td>NaN</td>\n      <td>NaN</td>\n      <td>NaN</td>\n      <td>NaN</td>\n      <td>324.115984</td>\n      <td>324.115984</td>\n      <td>330.730596</td>\n      <td>337.345208</td>\n      <td>320.808678</td>\n    </tr>\n    <tr>\n      <th>24</th>\n      <td>NaN</td>\n      <td>NaN</td>\n      <td>NaN</td>\n      <td>NaN</td>\n      <td>NaN</td>\n      <td>330.730596</td>\n      <td>324.115984</td>\n      <td>330.730596</td>\n      <td>327.423290</td>\n      <td>324.115984</td>\n    </tr>\n    <tr>\n      <th>25</th>\n      <td>NaN</td>\n      <td>NaN</td>\n      <td>NaN</td>\n      <td>NaN</td>\n      <td>NaN</td>\n      <td>343.959820</td>\n      <td>337.345208</td>\n      <td>330.730596</td>\n      <td>324.115984</td>\n      <td>327.423290</td>\n    </tr>\n    <tr>\n      <th>26</th>\n      <td>NaN</td>\n      <td>NaN</td>\n      <td>NaN</td>\n      <td>NaN</td>\n      <td>NaN</td>\n      <td>337.345208</td>\n      <td>287.735619</td>\n      <td>340.652514</td>\n      <td>324.115984</td>\n      <td>13.229224</td>\n    </tr>\n    <tr>\n      <th>27</th>\n      <td>NaN</td>\n      <td>NaN</td>\n      <td>NaN</td>\n      <td>NaN</td>\n      <td>NaN</td>\n      <td>300.964842</td>\n      <td>NaN</td>\n      <td>198.438358</td>\n      <td>320.808678</td>\n      <td>13.229224</td>\n    </tr>\n  </tbody>\n</table>\n<p>71 rows × 10 columns</p>\n</div>"
     },
     "metadata": {},
     "execution_count": 40
    }
   ],
   "source": [
    "df"
   ]
  },
  {
   "cell_type": "code",
   "execution_count": 41,
   "metadata": {},
   "outputs": [],
   "source": [
    "def mean_confidence_interval(data, confidence=0.95):\n",
    "    a = 1.0 * np.array(data)\n",
    "    n = len(a)\n",
    "    m, se = np.mean(a), scipy.stats.sem(a)\n",
    "    h = se * scipy.stats.t.ppf((1 + confidence) / 2., n-1)\n",
    "    return m, h"
   ]
  },
  {
   "cell_type": "markdown",
   "metadata": {},
   "source": [
    "## далее считаем доверительные интервалы для каждого эксперимента"
   ]
  },
  {
   "cell_type": "code",
   "execution_count": 42,
   "metadata": {
    "tags": []
   },
   "outputs": [
    {
     "output_type": "stream",
     "name": "stdout",
     "text": "Experiment #0 319.72+-7.22\nExperiment #1 322.43+-8.38\nExperiment #2 309.51+-21.87\nExperiment #3 324.29+-10.13\nExperiment #4 316.42+-16.72\nExperiment #5 319.16+-17.30\nExperiment #6 312.85+-19.91\nExperiment #7 317.62+-18.55\nExperiment #8 309.35+-23.67\nExperiment #9 294.11+-33.81\n"
    }
   ],
   "source": [
    "for i in range(10):\n",
    "    m,h=mean_confidence_interval(df[df.columns[i]].dropna().astype(float))\n",
    "    print(\"Experiment #%i %2.2f+-%2.2f\" % (i, m, h))"
   ]
  },
  {
   "cell_type": "markdown",
   "metadata": {},
   "source": [
    "## доверительные интервалы для каждого эксперимента + Zscore"
   ]
  },
  {
   "cell_type": "code",
   "execution_count": 43,
   "metadata": {
    "tags": []
   },
   "outputs": [
    {
     "output_type": "stream",
     "name": "stdout",
     "text": "Experiment #0 318.87+-4.09\nExperiment #1 327.63+-4.80\nExperiment #2 319.89+-5.01\nExperiment #3 324.60+-5.44\nExperiment #4 328.13+-5.43\nExperiment #5 329.71+-3.25\nExperiment #6 324.51+-3.91\nExperiment #7 329.97+-4.31\nExperiment #8 324.12+-2.45\nExperiment #9 323.06+-1.66\n"
    }
   ],
   "source": [
    "for i in range(10):\n",
    "    temp=df[df.columns[i]].dropna().astype(float)\n",
    "    z = np.abs(stats.zscore(temp))\n",
    "    temp1 = temp[(z < 1)]\n",
    "    m,h=mean_confidence_interval(temp1)\n",
    "    print(\"Experiment #%i %2.2f+-%2.2f\" % (i, m, h))"
   ]
  },
  {
   "cell_type": "markdown",
   "metadata": {},
   "source": [
    "## доверительные интервалы по эксперимертам суммарно для 3х метров"
   ]
  },
  {
   "cell_type": "code",
   "execution_count": 44,
   "metadata": {
    "tags": []
   },
   "outputs": [
    {
     "output_type": "stream",
     "name": "stdout",
     "text": "Experiment 3m 310.60+-10.08\nExperiment 3m + Zscore 325.29+-2.04\n"
    }
   ],
   "source": [
    "cylindr3m=[f14,f15,f16,f17,f18]\n",
    "cyl3m=pd.concat(cylindr3m)\n",
    "cyl3m=cyl3m.dropna()\n",
    "z = np.abs(stats.zscore(cyl3m))\n",
    "m,h=mean_confidence_interval(cyl3m)\n",
    "print(\"Experiment 3m %2.2f+-%2.2f\" % (m, h))\n",
    "cyl3mp = cyl3m[(z < 1)]\n",
    "m,h=mean_confidence_interval(cyl3mp)\n",
    "print(\"Experiment 3m + Zscore %2.2f+-%2.2f\" % (m, h))"
   ]
  },
  {
   "cell_type": "markdown",
   "metadata": {},
   "source": [
    "## доверительные интервалы по эксперимертам суммарно для 6х метров"
   ]
  },
  {
   "cell_type": "code",
   "execution_count": 45,
   "metadata": {
    "tags": []
   },
   "outputs": [
    {
     "output_type": "stream",
     "name": "stdout",
     "text": "Experiment 6m 319.03+-5.68\nExperiment 6m + Zscore 324.86+-2.48\n"
    }
   ],
   "source": [
    "cylindr6m=[f5,f6,f7,f8,f9]\n",
    "cyl6m=pd.concat(cylindr6m)\n",
    "cyl6m=cyl6m.dropna()\n",
    "z = np.abs(stats.zscore(cyl6m))\n",
    "\n",
    "m,h=mean_confidence_interval(cyl6m)\n",
    "print(\"Experiment 6m %2.2f+-%2.2f\" % (m, h))\n",
    "cyl6mp = cyl6m[(z < 1)]\n",
    "m,h=mean_confidence_interval(cyl6mp)\n",
    "print(\"Experiment 6m + Zscore %2.2f+-%2.2f\" % (m, h))\n"
   ]
  },
  {
   "cell_type": "markdown",
   "metadata": {},
   "source": [
    "## относительные ошибки в процентах"
   ]
  },
  {
   "cell_type": "code",
   "execution_count": 46,
   "metadata": {
    "tags": []
   },
   "outputs": [
    {
     "output_type": "stream",
     "name": "stdout",
     "text": "Max error 3m: 35.508\nMax error 6m: 27.275\nMean error 3m: 18.678\nMean error 6m: 18.786\nMedian error 3m: 18.558\nMedian error 6m: 20.664\nMin error 3m: 14.010\nMin error 6m: 10.747\n"
    }
   ],
   "source": [
    "cyl3=np.array(cyl3mp)\n",
    "cyl3=np.abs(cyl3-400)/400*100\n",
    "\n",
    "cyl6=np.array(cyl6mp)\n",
    "cyl6=np.abs(cyl6-400)/400*100\n",
    "\n",
    "print(\"Max error 3m: %2.3f\"%np.max(cyl3))\n",
    "print(\"Max error 6m: %2.3f\"%np.max(cyl6))\n",
    "\n",
    "print(\"Mean error 3m: %2.3f\"%np.mean(cyl3))\n",
    "print(\"Mean error 6m: %2.3f\"%np.mean(cyl6))\n",
    "\n",
    "print(\"Median error 3m: %2.3f\"%np.median(cyl3))\n",
    "print(\"Median error 6m: %2.3f\"%np.median(cyl6))\n",
    "\n",
    "print(\"Min error 3m: %2.3f\"%np.min(cyl3))\n",
    "print(\"Min error 6m: %2.3f\"%np.min(cyl6))"
   ]
  },
  {
   "cell_type": "markdown",
   "metadata": {},
   "source": [
    "## все ошибки"
   ]
  },
  {
   "cell_type": "code",
   "execution_count": 47,
   "metadata": {
    "tags": []
   },
   "outputs": [
    {
     "output_type": "stream",
     "name": "stdout",
     "text": "[18.97 18.97 22.28 19.8  18.97 18.97 21.45 18.97 18.97 18.97 18.14 18.97\n 18.97 18.14 19.8  18.97 17.32 18.97 18.97 19.8  19.8  19.8  19.8  18.97\n 18.14 21.45 20.62 18.97 19.8  20.62 20.62 18.14 18.14 18.14 19.8  18.14\n 18.14 18.97 22.28 18.97 19.8  18.14 15.66 18.97 17.32 18.97 15.66 18.14\n 18.97 18.97 19.8  28.89 19.8  16.49 18.97 18.14 18.97 17.32 18.97 18.14\n 16.49 17.32 18.14 16.49 15.66 17.32 17.32 15.66 15.66 14.84 15.66 15.66\n 16.49 17.32 17.32 17.32 14.84 34.68 21.45 18.97 18.97 16.49 16.49 18.14\n 18.97 18.97 18.14 17.32 20.62 19.8  18.97 19.8  18.14 16.49 18.14 18.97\n 19.8  18.97 16.49 18.97 18.97 15.66 28.07 35.51 18.97 19.8  16.49 18.97\n 18.14 18.14 15.66 18.97 18.14 18.14 16.49 17.32 16.49 18.14 18.14 17.32\n 15.66 16.49 16.49 15.66 16.49 18.97 17.32 14.01 15.66 24.76]\n"
    }
   ],
   "source": [
    "np.set_printoptions(precision=2,suppress=True)\n",
    "print(np.array(cyl3))"
   ]
  },
  {
   "cell_type": "code",
   "execution_count": 48,
   "metadata": {
    "tags": []
   },
   "outputs": [
    {
     "output_type": "stream",
     "name": "stdout",
     "text": "[17.36 14.05 20.66 23.97 14.05 14.05 20.66 20.66 10.75 14.05 17.36 17.36\n 17.36 17.36 23.97 20.66 17.36 20.66 17.36 14.05 14.05 20.66 23.97 20.66\n 17.36 20.66 14.05 14.05 10.75 14.05 20.66 27.28 23.97 23.97 20.66 14.05\n 14.05 14.05 20.66 27.28 23.97 20.66 14.05 10.75 14.05 20.66 20.66 17.36\n 23.97 17.36 20.66 14.05 23.97 14.05 20.66 23.97 20.66 17.36 10.75 14.05\n 10.75 20.66 17.36 20.66 20.66 17.36 14.05 20.66 23.97 23.97 14.05 10.75\n 14.05 14.05 14.05 17.36 20.66 20.66 20.66 20.66 17.36 20.66 20.66 14.05\n 20.66 17.36 20.66 23.97 17.36 17.36 20.66 23.97 20.66 20.66 17.36 27.28\n 23.97 17.36 23.97 20.66 17.36 14.05 14.05 20.66 17.36 17.36 14.05 14.05\n 14.05 14.05 17.36 20.66 14.05 20.66 27.28 23.97 23.97 20.66 17.36 17.36\n 20.66 20.66 17.36 27.28 14.05 23.97 23.97 14.05 14.05 20.66 14.05 20.66\n 20.66 20.66 14.05 23.97 17.36 17.36 10.75 17.36 20.66 23.97 27.28 23.97\n 17.36 17.36 14.05 20.66 20.66 17.36 20.66 27.28 27.28 23.97 14.05 17.36\n 20.66 27.28 17.36 23.97 20.66 14.05 17.36 20.66 23.97 14.05 17.36 14.05\n 14.05 20.66 10.75 20.66 20.66 20.66 23.97 17.36]\n"
    }
   ],
   "source": [
    "np.set_printoptions(precision=2,suppress=True)\n",
    "print(np.array(cyl6))"
   ]
  },
  {
   "cell_type": "markdown",
   "metadata": {},
   "source": [
    "## далее для каждого второго, третьего и четвертого, пятого и шестого элементов"
   ]
  },
  {
   "cell_type": "markdown",
   "metadata": {},
   "source": [
    "## для каждого второго"
   ]
  },
  {
   "cell_type": "code",
   "execution_count": 49,
   "metadata": {
    "tags": []
   },
   "outputs": [
    {
     "output_type": "stream",
     "name": "stdout",
     "text": "Experiment #0 315.36+-11.41\nExperiment #1 315.36+-14.65\nExperiment #2 300.34+-43.75\nExperiment #3 325.28+-18.34\nExperiment #4 310.73+-25.83\nExperiment #5 316.08+-35.02\nExperiment #6 304.27+-39.02\nExperiment #7 315.61+-33.40\nExperiment #8 302.15+-47.52\nExperiment #9 287.74+-54.30\n"
    }
   ],
   "source": [
    "for i in range(10):\n",
    "    m,h=mean_confidence_interval(df[df.columns[i]].dropna().astype(float).to_numpy()[::2])\n",
    "    print(\"Experiment #%i %2.2f+-%2.2f\" % (i, m, h))"
   ]
  },
  {
   "cell_type": "markdown",
   "metadata": {},
   "source": [
    "## для каждого третьего"
   ]
  },
  {
   "cell_type": "code",
   "execution_count": 50,
   "metadata": {
    "tags": []
   },
   "outputs": [
    {
     "output_type": "stream",
     "name": "stdout",
     "text": "Experiment #0 319.38+-18.70\nExperiment #1 307.17+-22.16\nExperiment #2 321.75+-13.45\nExperiment #3 317.34+-28.41\nExperiment #4 306.77+-38.96\nExperiment #5 304.60+-50.53\nExperiment #6 296.56+-64.60\nExperiment #7 296.33+-54.40\nExperiment #8 292.37+-69.47\nExperiment #9 271.86+-77.76\n"
    }
   ],
   "source": [
    "for i in range(10):\n",
    "    m,h=mean_confidence_interval(df[df.columns[i]].dropna().astype(float).to_numpy()[::3])\n",
    "    print(\"Experiment #%i %2.2f+-%2.2f\" % (i, m, h))"
   ]
  },
  {
   "cell_type": "markdown",
   "metadata": {},
   "source": [
    "## для каждого четвертого"
   ]
  },
  {
   "cell_type": "code",
   "execution_count": 51,
   "metadata": {
    "tags": []
   },
   "outputs": [
    {
     "output_type": "stream",
     "name": "stdout",
     "text": "Experiment #0 312.06+-22.38\nExperiment #1 306.77+-29.85\nExperiment #2 321.12+-11.63\nExperiment #3 317.34+-35.11\nExperiment #4 307.73+-34.43\nExperiment #5 300.49+-79.44\nExperiment #6 287.26+-87.53\nExperiment #7 298.60+-74.69\nExperiment #8 281.59+-108.11\nExperiment #9 295.77+-66.68\n"
    }
   ],
   "source": [
    "for i in range(10):\n",
    "    m,h=mean_confidence_interval(df[df.columns[i]].dropna().astype(float).to_numpy()[::4])\n",
    "    print(\"Experiment #%i %2.2f+-%2.2f\" % (i, m, h))"
   ]
  },
  {
   "cell_type": "markdown",
   "metadata": {},
   "source": [
    "## для каждого пятого"
   ]
  },
  {
   "cell_type": "code",
   "execution_count": 52,
   "metadata": {
    "tags": []
   },
   "outputs": [
    {
     "output_type": "stream",
     "name": "stdout",
     "text": "Experiment #0 302.47+-27.36\nExperiment #1 312.39+-41.34\nExperiment #2 326.16+-11.33\nExperiment #3 315.69+-47.06\nExperiment #4 308.53+-45.74\nExperiment #5 293.80+-96.92\nExperiment #6 285.53+-109.62\nExperiment #7 296.00+-92.74\nExperiment #8 270.65+-130.78\nExperiment #9 291.59+-81.94\n"
    }
   ],
   "source": [
    "for i in range(10):\n",
    "    m,h=mean_confidence_interval(df[df.columns[i]].dropna().astype(float).to_numpy()[::5])\n",
    "    print(\"Experiment #%i %2.2f+-%2.2f\" % (i, m, h))"
   ]
  },
  {
   "cell_type": "markdown",
   "metadata": {},
   "source": [
    "## для каждого шестого"
   ]
  },
  {
   "cell_type": "code",
   "execution_count": 53,
   "metadata": {
    "tags": []
   },
   "outputs": [
    {
     "output_type": "stream",
     "name": "stdout",
     "text": "Experiment #0 315.46+-34.17\nExperiment #1 296.57+-41.68\nExperiment #2 322.63+-18.72\nExperiment #3 323.01+-59.85\nExperiment #4 280.98+-74.68\nExperiment #5 287.07+-125.88\nExperiment #6 275.17+-140.69\nExperiment #7 287.07+-119.07\nExperiment #8 263.26+-171.34\nExperiment #9 285.75+-106.52\n"
    }
   ],
   "source": [
    "for i in range(10):\n",
    "    m,h=mean_confidence_interval(df[df.columns[i]].dropna().astype(float).to_numpy()[::6])\n",
    "    print(\"Experiment #%i %2.2f+-%2.2f\" % (i, m, h))"
   ]
  },
  {
   "cell_type": "markdown",
   "metadata": {},
   "source": [
    "## для каждого второго + Z-score"
   ]
  },
  {
   "cell_type": "code",
   "execution_count": 54,
   "metadata": {
    "tags": []
   },
   "outputs": [
    {
     "output_type": "stream",
     "name": "stdout",
     "text": "Experiment #0 318.29+-6.33\nExperiment #1 321.52+-7.38\nExperiment #2 320.40+-6.65\nExperiment #3 330.57+-10.09\nExperiment #4 327.92+-7.93\nExperiment #5 332.26+-2.66\nExperiment #6 322.08+-7.09\nExperiment #7 330.99+-3.87\nExperiment #8 324.12+-2.45\nExperiment #9 323.56+-1.21\n"
    }
   ],
   "source": [
    "for i in range(10):\n",
    "    temp=df[df.columns[i]].dropna().astype(float).to_numpy()[::2]\n",
    "    z = np.abs(stats.zscore(temp))\n",
    "    temp1 = temp[(z < 1)]\n",
    "    m,h=mean_confidence_interval(temp1)\n",
    "    print(\"Experiment #%i %2.2f+-%2.2f\" % (i, m, h))"
   ]
  },
  {
   "cell_type": "markdown",
   "metadata": {},
   "source": [
    "## для каждого третьего + Z-score"
   ]
  },
  {
   "cell_type": "code",
   "execution_count": 55,
   "metadata": {
    "tags": []
   },
   "outputs": [
    {
     "output_type": "stream",
     "name": "stdout",
     "text": "Experiment #0 323.35+-12.16\nExperiment #1 310.73+-9.19\nExperiment #2 322.63+-8.99\nExperiment #3 325.28+-16.80\nExperiment #4 332.60+-10.24\nExperiment #5 326.69+-8.60\nExperiment #6 324.53+-4.03\nExperiment #7 331.14+-4.03\nExperiment #8 323.01+-5.08\nExperiment #9 321.64+-3.84\n"
    }
   ],
   "source": [
    "for i in range(10):\n",
    "    temp=df[df.columns[i]].dropna().astype(float).to_numpy()[::3]\n",
    "    z = np.abs(stats.zscore(temp))\n",
    "    temp1 = temp[(z < 1)]\n",
    "    m,h=mean_confidence_interval(temp1)\n",
    "    print(\"Experiment #%i %2.2f+-%2.2f\" % (i, m, h))"
   ]
  },
  {
   "cell_type": "markdown",
   "metadata": {},
   "source": [
    "## для каждого четвертого + Z-score"
   ]
  },
  {
   "cell_type": "code",
   "execution_count": 56,
   "metadata": {
    "tags": []
   },
   "outputs": [
    {
     "output_type": "stream",
     "name": "stdout",
     "text": "Experiment #0 313.57+-13.61\nExperiment #1 318.81+-13.87\nExperiment #2 319.99+-7.34\nExperiment #3 332.04+-12.90\nExperiment #4 322.63+-10.17\nExperiment #5 332.94+-3.58\nExperiment #6 323.01+-3.58\nExperiment #7 329.08+-5.26\nExperiment #8 325.77+-1.90\nExperiment #9 323.01+-1.79\n"
    }
   ],
   "source": [
    "for i in range(10):\n",
    "    temp=df[df.columns[i]].dropna().astype(float).to_numpy()[::4]\n",
    "    z = np.abs(stats.zscore(temp))\n",
    "    temp1 = temp[(z < 1)]\n",
    "    m,h=mean_confidence_interval(temp1)\n",
    "    print(\"Experiment #%i %2.2f+-%2.2f\" % (i, m, h))"
   ]
  },
  {
   "cell_type": "markdown",
   "metadata": {},
   "source": [
    "## для каждого пятого + Z-score"
   ]
  },
  {
   "cell_type": "code",
   "execution_count": 57,
   "metadata": {
    "tags": []
   },
   "outputs": [
    {
     "output_type": "stream",
     "name": "stdout",
     "text": "Experiment #0 306.33+-18.44\nExperiment #1 328.68+-17.90\nExperiment #2 322.63+-8.99\nExperiment #3 328.36+-16.22\nExperiment #4 327.26+-17.48\nExperiment #5 331.39+-9.80\nExperiment #6 328.08+-9.36\nExperiment #7 332.05+-4.68\nExperiment #8 321.47+-7.90\nExperiment #9 323.45+-3.44\n"
    }
   ],
   "source": [
    "for i in range(10):\n",
    "    temp=df[df.columns[i]].dropna().astype(float).to_numpy()[::5]\n",
    "    z = np.abs(stats.zscore(temp))\n",
    "    temp1 = temp[(z < 1)]\n",
    "    m,h=mean_confidence_interval(temp1)\n",
    "    print(\"Experiment #%i %2.2f+-%2.2f\" % (i, m, h))"
   ]
  },
  {
   "cell_type": "markdown",
   "metadata": {},
   "source": [
    "## для каждого шестого + Z-score"
   ]
  },
  {
   "cell_type": "code",
   "execution_count": 58,
   "metadata": {
    "tags": []
   },
   "outputs": [
    {
     "output_type": "stream",
     "name": "stdout",
     "text": "Experiment #0 328.36+-16.22\nExperiment #1 312.94+-14.33\nExperiment #2 321.75+-18.96\nExperiment #3 345.99+-25.46\nExperiment #4 328.36+-16.22\nExperiment #5 332.38+-6.79\nExperiment #6 325.77+-10.96\nExperiment #7 329.90+-8.99\nExperiment #8 324.94+-7.89\nExperiment #9 324.12+-0.00\n"
    }
   ],
   "source": [
    "for i in range(10):\n",
    "    temp=df[df.columns[i]].dropna().astype(float).to_numpy()[::6]\n",
    "    z = np.abs(stats.zscore(temp))\n",
    "    temp1 = temp[(z < 1)]\n",
    "    m,h=mean_confidence_interval(temp1)\n",
    "    print(\"Experiment #%i %2.2f+-%2.2f\" % (i, m, h))"
   ]
  },
  {
   "cell_type": "markdown",
   "metadata": {},
   "source": [
    "## доверительные интервалы по эксперимертам суммарно для 3х метров, каждый второй элемент"
   ]
  },
  {
   "cell_type": "code",
   "execution_count": 59,
   "metadata": {
    "tags": []
   },
   "outputs": [
    {
     "output_type": "stream",
     "name": "stdout",
     "text": "Experiment 3m 305.17+-17.25\nExperiment 3m + Zscore 326.65+-1.92\n"
    }
   ],
   "source": [
    "cylindr3m=[]\n",
    "for i in range(5,10):\n",
    "    cylindr3m.append(df[df.columns[i]].dropna().astype(float)[::2])\n",
    "cyl3m=pd.concat(cylindr3m)\n",
    "cyl3m=cyl3m.dropna()\n",
    "z = np.abs(stats.zscore(cyl3m))\n",
    "m,h=mean_confidence_interval(cyl3m)\n",
    "print(\"Experiment 3m %2.2f+-%2.2f\" % (m, h))\n",
    "cyl3mp = cyl3m[(z < 1)]\n",
    "m,h=mean_confidence_interval(cyl3mp)\n",
    "print(\"Experiment 3m + Zscore %2.2f+-%2.2f\" % (m, h))\n"
   ]
  },
  {
   "cell_type": "markdown",
   "metadata": {},
   "source": [
    "## доверительные интервалы по эксперимертам суммарно для 6ти метров, каждый второй элемент"
   ]
  },
  {
   "cell_type": "code",
   "execution_count": 60,
   "metadata": {
    "tags": []
   },
   "outputs": [
    {
     "output_type": "stream",
     "name": "stdout",
     "text": "Experiment 6m 314.18+-9.54\nExperiment 6m + Zscore 324.18+-3.54\n"
    }
   ],
   "source": [
    "cylindr6m=[]\n",
    "for i in range(0,5):\n",
    "    cylindr6m.append(df[df.columns[i]].dropna().astype(float)[::2])\n",
    "cyl6m=pd.concat(cylindr6m)\n",
    "cyl6m=cyl6m.dropna()\n",
    "z = np.abs(stats.zscore(cyl6m))\n",
    "m,h=mean_confidence_interval(cyl6m)\n",
    "print(\"Experiment 6m %2.2f+-%2.2f\" % (m, h))\n",
    "cyl6mp = cyl6m[(z < 1)]\n",
    "m,h=mean_confidence_interval(cyl6mp)\n",
    "print(\"Experiment 6m + Zscore %2.2f+-%2.2f\" % (m, h))"
   ]
  },
  {
   "cell_type": "code",
   "execution_count": 61,
   "metadata": {
    "tags": []
   },
   "outputs": [
    {
     "output_type": "stream",
     "name": "stdout",
     "text": "Max error 3m: 28.066\nMax error 6m: 27.275\nMean error 3m: 18.338\nMean error 6m: 18.955\nMedian error 3m: 18.558\nMedian error 6m: 20.664\nMin error 3m: 14.837\nMin error 6m: 10.747\n"
    }
   ],
   "source": [
    "cyl3=np.array(cyl3mp)\n",
    "cyl3=np.abs(cyl3-400)/400*100\n",
    "\n",
    "cyl6=np.array(cyl6mp)\n",
    "cyl6=np.abs(cyl6-400)/400*100\n",
    "\n",
    "print(\"Max error 3m: %2.3f\"%np.max(cyl3))\n",
    "print(\"Max error 6m: %2.3f\"%np.max(cyl6))\n",
    "\n",
    "print(\"Mean error 3m: %2.3f\"%np.mean(cyl3))\n",
    "print(\"Mean error 6m: %2.3f\"%np.mean(cyl6))\n",
    "\n",
    "print(\"Median error 3m: %2.3f\"%np.median(cyl3))\n",
    "print(\"Median error 6m: %2.3f\"%np.median(cyl6))\n",
    "\n",
    "print(\"Min error 3m: %2.3f\"%np.min(cyl3))\n",
    "print(\"Min error 6m: %2.3f\"%np.min(cyl6))"
   ]
  },
  {
   "cell_type": "markdown",
   "metadata": {},
   "source": [
    "## доверительные интервалы по эксперимертам суммарно для 3х метров, каждый третий элемент"
   ]
  },
  {
   "cell_type": "code",
   "execution_count": 62,
   "metadata": {
    "tags": []
   },
   "outputs": [
    {
     "output_type": "stream",
     "name": "stdout",
     "text": "Experiment 3m 292.26+-24.55\nExperiment 3m + Zscore 325.38+-2.32\n"
    }
   ],
   "source": [
    "cylindr3m=[]\n",
    "for i in range(5,10):\n",
    "    cylindr3m.append(df[df.columns[i]].dropna().astype(float)[::3])\n",
    "cyl3m=pd.concat(cylindr3m)\n",
    "cyl3m=cyl3m.dropna()\n",
    "z = np.abs(stats.zscore(cyl3m))\n",
    "m,h=mean_confidence_interval(cyl3m)\n",
    "print(\"Experiment 3m %2.2f+-%2.2f\" % (m, h))\n",
    "cyl3mp = cyl3m[(z < 1)]\n",
    "m,h=mean_confidence_interval(cyl3mp)\n",
    "print(\"Experiment 3m + Zscore %2.2f+-%2.2f\" % (m, h))"
   ]
  },
  {
   "cell_type": "markdown",
   "metadata": {},
   "source": [
    "## доверительные интервалы по эксперимертам суммарно для 6ти метров, каждый третий элемент"
   ]
  },
  {
   "cell_type": "code",
   "execution_count": 63,
   "metadata": {
    "tags": []
   },
   "outputs": [
    {
     "output_type": "stream",
     "name": "stdout",
     "text": "Experiment 6m 313.83+-11.49\nExperiment 6m + Zscore 323.84+-4.95\n"
    }
   ],
   "source": [
    "cylindr6m=[]\n",
    "for i in range(0,5):\n",
    "    cylindr6m.append(df[df.columns[i]].dropna().astype(float)[::3])\n",
    "cyl6m=pd.concat(cylindr6m)\n",
    "cyl6m=cyl6m.dropna()\n",
    "z = np.abs(stats.zscore(cyl6m))\n",
    "m,h=mean_confidence_interval(cyl6m)\n",
    "print(\"Experiment 6m %2.2f+-%2.2f\" % (m, h))\n",
    "cyl6mp = cyl6m[(z < 1)]\n",
    "m,h=mean_confidence_interval(cyl6mp)\n",
    "print(\"Experiment 6m + Zscore %2.2f+-%2.2f\" % (m, h))"
   ]
  },
  {
   "cell_type": "code",
   "execution_count": 64,
   "metadata": {
    "tags": []
   },
   "outputs": [
    {
     "output_type": "stream",
     "name": "stdout",
     "text": "Max error 3m: 24.759\nMax error 6m: 27.275\nMean error 3m: 18.656\nMean error 6m: 19.041\nMedian error 3m: 18.971\nMedian error 6m: 20.664\nMin error 3m: 15.664\nMin error 6m: 10.747\n"
    }
   ],
   "source": [
    "cyl3=np.array(cyl3mp)\n",
    "cyl3=np.abs(cyl3-400)/400*100\n",
    "\n",
    "cyl6=np.array(cyl6mp)\n",
    "cyl6=np.abs(cyl6-400)/400*100\n",
    "\n",
    "print(\"Max error 3m: %2.3f\"%np.max(cyl3))\n",
    "print(\"Max error 6m: %2.3f\"%np.max(cyl6))\n",
    "\n",
    "print(\"Mean error 3m: %2.3f\"%np.mean(cyl3))\n",
    "print(\"Mean error 6m: %2.3f\"%np.mean(cyl6))\n",
    "\n",
    "print(\"Median error 3m: %2.3f\"%np.median(cyl3))\n",
    "print(\"Median error 6m: %2.3f\"%np.median(cyl6))\n",
    "\n",
    "print(\"Min error 3m: %2.3f\"%np.min(cyl3))\n",
    "print(\"Min error 6m: %2.3f\"%np.min(cyl6))"
   ]
  },
  {
   "cell_type": "markdown",
   "metadata": {},
   "source": [
    "## доверительные интервалы по эксперимертам суммарно для 3х метров, каждый четвертый элемент"
   ]
  },
  {
   "cell_type": "code",
   "execution_count": 65,
   "metadata": {
    "tags": []
   },
   "outputs": [
    {
     "output_type": "stream",
     "name": "stdout",
     "text": "Experiment 3m 292.74+-29.58\nExperiment 3m + Zscore 326.76+-1.85\n"
    }
   ],
   "source": [
    "cylindr3m=[]\n",
    "for i in range(5,10):\n",
    "    cylindr3m.append(df[df.columns[i]].dropna().astype(float)[::4])\n",
    "cyl3m=pd.concat(cylindr3m)\n",
    "cyl3m=cyl3m.dropna()\n",
    "z = np.abs(stats.zscore(cyl3m))\n",
    "m,h=mean_confidence_interval(cyl3m)\n",
    "print(\"Experiment 3m %2.2f+-%2.2f\" % (m, h))\n",
    "cyl3mp = cyl3m[(z < 1)]\n",
    "m,h=mean_confidence_interval(cyl3mp)\n",
    "print(\"Experiment 3m + Zscore %2.2f+-%2.2f\" % (m, h))"
   ]
  },
  {
   "cell_type": "markdown",
   "metadata": {},
   "source": [
    "## доверительные интервалы по эксперимертам суммарно для 6ти метров, каждый четвертый элемент"
   ]
  },
  {
   "cell_type": "code",
   "execution_count": 66,
   "metadata": {
    "tags": []
   },
   "outputs": [
    {
     "output_type": "stream",
     "name": "stdout",
     "text": "Experiment 6m 312.39+-11.58\nExperiment 6m + Zscore 321.44+-4.59\n"
    }
   ],
   "source": [
    "cylindr6m=[]\n",
    "for i in range(0,5):\n",
    "    cylindr6m.append(df[df.columns[i]].dropna().astype(float)[::4])\n",
    "cyl6m=pd.concat(cylindr6m)\n",
    "cyl6m=cyl6m.dropna()\n",
    "z = np.abs(stats.zscore(cyl6m))\n",
    "m,h=mean_confidence_interval(cyl6m)\n",
    "print(\"Experiment 6m %2.2f+-%2.2f\" % (m, h))\n",
    "cyl6mp = cyl6m[(z < 1)]\n",
    "m,h=mean_confidence_interval(cyl6mp)\n",
    "print(\"Experiment 6m + Zscore %2.2f+-%2.2f\" % (m, h))"
   ]
  },
  {
   "cell_type": "code",
   "execution_count": 67,
   "metadata": {
    "tags": []
   },
   "outputs": [
    {
     "output_type": "stream",
     "name": "stdout",
     "text": "Max error 3m: 20.625\nMax error 6m: 27.275\nMean error 3m: 18.310\nMean error 6m: 19.641\nMedian error 3m: 18.971\nMedian error 6m: 20.664\nMin error 3m: 15.664\nMin error 6m: 14.053\n"
    }
   ],
   "source": [
    "cyl3=np.array(cyl3mp)\n",
    "cyl3=np.abs(cyl3-400)/400*100\n",
    "\n",
    "cyl6=np.array(cyl6mp)\n",
    "cyl6=np.abs(cyl6-400)/400*100\n",
    "\n",
    "print(\"Max error 3m: %2.3f\"%np.max(cyl3))\n",
    "print(\"Max error 6m: %2.3f\"%np.max(cyl6))\n",
    "\n",
    "print(\"Mean error 3m: %2.3f\"%np.mean(cyl3))\n",
    "print(\"Mean error 6m: %2.3f\"%np.mean(cyl6))\n",
    "\n",
    "print(\"Median error 3m: %2.3f\"%np.median(cyl3))\n",
    "print(\"Median error 6m: %2.3f\"%np.median(cyl6))\n",
    "\n",
    "print(\"Min error 3m: %2.3f\"%np.min(cyl3))\n",
    "print(\"Min error 6m: %2.3f\"%np.min(cyl6))\n"
   ]
  },
  {
   "cell_type": "markdown",
   "metadata": {},
   "source": [
    "## доверительные интервалы по эксперимертам суммарно для 3х метров, каждый пятый элемент"
   ]
  },
  {
   "cell_type": "code",
   "execution_count": 68,
   "metadata": {
    "tags": []
   },
   "outputs": [
    {
     "output_type": "stream",
     "name": "stdout",
     "text": "Experiment 3m 287.52+-34.45\nExperiment 3m + Zscore 327.29+-2.88\n"
    }
   ],
   "source": [
    "cylindr3m=[]\n",
    "for i in range(5,10):\n",
    "    cylindr3m.append(df[df.columns[i]].dropna().astype(float)[::5])\n",
    "cyl3m=pd.concat(cylindr3m)\n",
    "cyl3m=cyl3m.dropna()\n",
    "z = np.abs(stats.zscore(cyl3m))\n",
    "m,h=mean_confidence_interval(cyl3m)\n",
    "print(\"Experiment 3m %2.2f+-%2.2f\" % (m, h))\n",
    "cyl3mp = cyl3m[(z < 1)]\n",
    "m,h=mean_confidence_interval(cyl3mp)\n",
    "print(\"Experiment 3m + Zscore %2.2f+-%2.2f\" % (m, h))"
   ]
  },
  {
   "cell_type": "markdown",
   "metadata": {},
   "source": [
    "## доверительные интервалы по эксперимертам суммарно для 6ти метров, каждый пятый элемент"
   ]
  },
  {
   "cell_type": "code",
   "execution_count": 69,
   "metadata": {
    "tags": []
   },
   "outputs": [
    {
     "output_type": "stream",
     "name": "stdout",
     "text": "Experiment 6m 312.26+-14.67\nExperiment 6m + Zscore 323.35+-6.32\n"
    }
   ],
   "source": [
    "cylindr6m=[]\n",
    "for i in range(0,5):\n",
    "    cylindr6m.append(df[df.columns[i]].dropna().astype(float)[::5])\n",
    "cyl6m=pd.concat(cylindr6m)\n",
    "cyl6m=cyl6m.dropna()\n",
    "z = np.abs(stats.zscore(cyl6m))\n",
    "m,h=mean_confidence_interval(cyl6m)\n",
    "print(\"Experiment 6m %2.2f+-%2.2f\" % (m, h))\n",
    "cyl6mp = cyl6m[(z < 1)]\n",
    "m,h=mean_confidence_interval(cyl6mp)\n",
    "print(\"Experiment 6m + Zscore %2.2f+-%2.2f\" % (m, h))"
   ]
  },
  {
   "cell_type": "code",
   "execution_count": 70,
   "metadata": {
    "tags": []
   },
   "outputs": [
    {
     "output_type": "stream",
     "name": "stdout",
     "text": "Max error 3m: 22.278\nMax error 6m: 27.275\nMean error 3m: 18.177\nMean error 6m: 19.161\nMedian error 3m: 18.144\nMedian error 6m: 17.358\nMin error 3m: 14.010\nMin error 6m: 14.053\n"
    }
   ],
   "source": [
    "cyl3=np.array(cyl3mp)\n",
    "cyl3=np.abs(cyl3-400)/400*100\n",
    "\n",
    "cyl6=np.array(cyl6mp)\n",
    "cyl6=np.abs(cyl6-400)/400*100\n",
    "\n",
    "print(\"Max error 3m: %2.3f\"%np.max(cyl3))\n",
    "print(\"Max error 6m: %2.3f\"%np.max(cyl6))\n",
    "\n",
    "print(\"Mean error 3m: %2.3f\"%np.mean(cyl3))\n",
    "print(\"Mean error 6m: %2.3f\"%np.mean(cyl6))\n",
    "\n",
    "print(\"Median error 3m: %2.3f\"%np.median(cyl3))\n",
    "print(\"Median error 6m: %2.3f\"%np.median(cyl6))\n",
    "\n",
    "print(\"Min error 3m: %2.3f\"%np.min(cyl3))\n",
    "print(\"Min error 6m: %2.3f\"%np.min(cyl6))"
   ]
  },
  {
   "cell_type": "markdown",
   "metadata": {},
   "source": [
    "## доверительные интервалы по эксперимертам суммарно для 3х метров, каждый шестой элемент"
   ]
  },
  {
   "cell_type": "code",
   "execution_count": 71,
   "metadata": {
    "tags": []
   },
   "outputs": [
    {
     "output_type": "stream",
     "name": "stdout",
     "text": "Experiment 3m 279.67+-41.02\nExperiment 3m + Zscore 327.42+-2.56\n"
    }
   ],
   "source": [
    "cylindr3m=[]\n",
    "for i in range(5,10):\n",
    "    cylindr3m.append(df[df.columns[i]].dropna().astype(float)[::6])\n",
    "cyl3m=pd.concat(cylindr3m)\n",
    "cyl3m=cyl3m.dropna()\n",
    "z = np.abs(stats.zscore(cyl3m))\n",
    "m,h=mean_confidence_interval(cyl3m)\n",
    "print(\"Experiment 3m %2.2f+-%2.2f\" % (m, h))\n",
    "cyl3mp = cyl3m[(z < 1)]\n",
    "m,h=mean_confidence_interval(cyl3mp)\n",
    "print(\"Experiment 3m + Zscore %2.2f+-%2.2f\" % (m, h))"
   ]
  },
  {
   "cell_type": "markdown",
   "metadata": {},
   "source": [
    "## доверительные интервалы по эксперимертам суммарно для 6ти метров, каждый шестой элемент"
   ]
  },
  {
   "cell_type": "code",
   "execution_count": 72,
   "metadata": {
    "tags": []
   },
   "outputs": [
    {
     "output_type": "stream",
     "name": "stdout",
     "text": "Experiment 6m 306.07+-20.32\nExperiment 6m + Zscore 326.32+-6.98\n"
    }
   ],
   "source": [
    "cylindr6m=[]\n",
    "for i in range(0,5):\n",
    "    cylindr6m.append(df[df.columns[i]].dropna().astype(float)[::6])\n",
    "cyl6m=pd.concat(cylindr6m)\n",
    "cyl6m=cyl6m.dropna()\n",
    "z = np.abs(stats.zscore(cyl6m))\n",
    "m,h=mean_confidence_interval(cyl6m)\n",
    "print(\"Experiment 6m %2.2f+-%2.2f\" % (m, h))\n",
    "cyl6mp = cyl6m[(z < 1)]\n",
    "m,h=mean_confidence_interval(cyl6mp)\n",
    "print(\"Experiment 6m + Zscore %2.2f+-%2.2f\" % (m, h))"
   ]
  },
  {
   "cell_type": "code",
   "execution_count": 73,
   "metadata": {
    "tags": []
   },
   "outputs": [
    {
     "output_type": "stream",
     "name": "stdout",
     "text": "Max error 3m: 20.625\nMax error 6m: 27.275\nMean error 3m: 18.144\nMean error 6m: 18.421\nMedian error 3m: 18.144\nMedian error 6m: 17.358\nMin error 3m: 15.664\nMin error 6m: 10.747\n"
    }
   ],
   "source": [
    "cyl3=np.array(cyl3mp)\n",
    "cyl3=np.abs(cyl3-400)/400*100\n",
    "\n",
    "cyl6=np.array(cyl6mp)\n",
    "cyl6=np.abs(cyl6-400)/400*100\n",
    "\n",
    "print(\"Max error 3m: %2.3f\"%np.max(cyl3))\n",
    "print(\"Max error 6m: %2.3f\"%np.max(cyl6))\n",
    "\n",
    "print(\"Mean error 3m: %2.3f\"%np.mean(cyl3))\n",
    "print(\"Mean error 6m: %2.3f\"%np.mean(cyl6))\n",
    "\n",
    "print(\"Median error 3m: %2.3f\"%np.median(cyl3))\n",
    "print(\"Median error 6m: %2.3f\"%np.median(cyl6))\n",
    "\n",
    "print(\"Min error 3m: %2.3f\"%np.min(cyl3))\n",
    "print(\"Min error 6m: %2.3f\"%np.min(cyl6))"
   ]
  },
  {
   "cell_type": "code",
   "execution_count": 74,
   "metadata": {},
   "outputs": [
    {
     "output_type": "error",
     "ename": "ModuleNotFoundError",
     "evalue": "No module named 'openpyxl'",
     "traceback": [
      "\u001b[0;31m---------------------------------------------------------------------------\u001b[0m",
      "\u001b[0;31mModuleNotFoundError\u001b[0m                       Traceback (most recent call last)",
      "\u001b[0;32m<ipython-input-74-a2de13481233>\u001b[0m in \u001b[0;36m<module>\u001b[0;34m\u001b[0m\n\u001b[0;32m----> 1\u001b[0;31m \u001b[0mdf\u001b[0m\u001b[0;34m.\u001b[0m\u001b[0mto_excel\u001b[0m\u001b[0;34m(\u001b[0m\u001b[0;34m\"final.xlsx\"\u001b[0m\u001b[0;34m)\u001b[0m\u001b[0;34m\u001b[0m\u001b[0;34m\u001b[0m\u001b[0m\n\u001b[0m",
      "\u001b[0;32m~/.local/lib/python3.8/site-packages/pandas/core/generic.py\u001b[0m in \u001b[0;36mto_excel\u001b[0;34m(self, excel_writer, sheet_name, na_rep, float_format, columns, header, index, index_label, startrow, startcol, engine, merge_cells, encoding, inf_rep, verbose, freeze_panes)\u001b[0m\n\u001b[1;32m   2021\u001b[0m             \u001b[0minf_rep\u001b[0m\u001b[0;34m=\u001b[0m\u001b[0minf_rep\u001b[0m\u001b[0;34m,\u001b[0m\u001b[0;34m\u001b[0m\u001b[0;34m\u001b[0m\u001b[0m\n\u001b[1;32m   2022\u001b[0m         )\n\u001b[0;32m-> 2023\u001b[0;31m         formatter.write(\n\u001b[0m\u001b[1;32m   2024\u001b[0m             \u001b[0mexcel_writer\u001b[0m\u001b[0;34m,\u001b[0m\u001b[0;34m\u001b[0m\u001b[0;34m\u001b[0m\u001b[0m\n\u001b[1;32m   2025\u001b[0m             \u001b[0msheet_name\u001b[0m\u001b[0;34m=\u001b[0m\u001b[0msheet_name\u001b[0m\u001b[0;34m,\u001b[0m\u001b[0;34m\u001b[0m\u001b[0;34m\u001b[0m\u001b[0m\n",
      "\u001b[0;32m~/.local/lib/python3.8/site-packages/pandas/io/formats/excel.py\u001b[0m in \u001b[0;36mwrite\u001b[0;34m(self, writer, sheet_name, startrow, startcol, freeze_panes, engine)\u001b[0m\n\u001b[1;32m    728\u001b[0m             \u001b[0mneed_save\u001b[0m \u001b[0;34m=\u001b[0m \u001b[0;32mFalse\u001b[0m\u001b[0;34m\u001b[0m\u001b[0;34m\u001b[0m\u001b[0m\n\u001b[1;32m    729\u001b[0m         \u001b[0;32melse\u001b[0m\u001b[0;34m:\u001b[0m\u001b[0;34m\u001b[0m\u001b[0;34m\u001b[0m\u001b[0m\n\u001b[0;32m--> 730\u001b[0;31m             \u001b[0mwriter\u001b[0m \u001b[0;34m=\u001b[0m \u001b[0mExcelWriter\u001b[0m\u001b[0;34m(\u001b[0m\u001b[0mstringify_path\u001b[0m\u001b[0;34m(\u001b[0m\u001b[0mwriter\u001b[0m\u001b[0;34m)\u001b[0m\u001b[0;34m,\u001b[0m \u001b[0mengine\u001b[0m\u001b[0;34m=\u001b[0m\u001b[0mengine\u001b[0m\u001b[0;34m)\u001b[0m\u001b[0;34m\u001b[0m\u001b[0;34m\u001b[0m\u001b[0m\n\u001b[0m\u001b[1;32m    731\u001b[0m             \u001b[0mneed_save\u001b[0m \u001b[0;34m=\u001b[0m \u001b[0;32mTrue\u001b[0m\u001b[0;34m\u001b[0m\u001b[0;34m\u001b[0m\u001b[0m\n\u001b[1;32m    732\u001b[0m \u001b[0;34m\u001b[0m\u001b[0m\n",
      "\u001b[0;32m~/.local/lib/python3.8/site-packages/pandas/io/excel/_openpyxl.py\u001b[0m in \u001b[0;36m__init__\u001b[0;34m(self, path, engine, mode, **engine_kwargs)\u001b[0m\n\u001b[1;32m     16\u001b[0m     \u001b[0;32mdef\u001b[0m \u001b[0m__init__\u001b[0m\u001b[0;34m(\u001b[0m\u001b[0mself\u001b[0m\u001b[0;34m,\u001b[0m \u001b[0mpath\u001b[0m\u001b[0;34m,\u001b[0m \u001b[0mengine\u001b[0m\u001b[0;34m=\u001b[0m\u001b[0;32mNone\u001b[0m\u001b[0;34m,\u001b[0m \u001b[0mmode\u001b[0m\u001b[0;34m=\u001b[0m\u001b[0;34m\"w\"\u001b[0m\u001b[0;34m,\u001b[0m \u001b[0;34m**\u001b[0m\u001b[0mengine_kwargs\u001b[0m\u001b[0;34m)\u001b[0m\u001b[0;34m:\u001b[0m\u001b[0;34m\u001b[0m\u001b[0;34m\u001b[0m\u001b[0m\n\u001b[1;32m     17\u001b[0m         \u001b[0;31m# Use the openpyxl module as the Excel writer.\u001b[0m\u001b[0;34m\u001b[0m\u001b[0;34m\u001b[0m\u001b[0;34m\u001b[0m\u001b[0m\n\u001b[0;32m---> 18\u001b[0;31m         \u001b[0;32mfrom\u001b[0m \u001b[0mopenpyxl\u001b[0m\u001b[0;34m.\u001b[0m\u001b[0mworkbook\u001b[0m \u001b[0;32mimport\u001b[0m \u001b[0mWorkbook\u001b[0m\u001b[0;34m\u001b[0m\u001b[0;34m\u001b[0m\u001b[0m\n\u001b[0m\u001b[1;32m     19\u001b[0m \u001b[0;34m\u001b[0m\u001b[0m\n\u001b[1;32m     20\u001b[0m         \u001b[0msuper\u001b[0m\u001b[0;34m(\u001b[0m\u001b[0;34m)\u001b[0m\u001b[0;34m.\u001b[0m\u001b[0m__init__\u001b[0m\u001b[0;34m(\u001b[0m\u001b[0mpath\u001b[0m\u001b[0;34m,\u001b[0m \u001b[0mmode\u001b[0m\u001b[0;34m=\u001b[0m\u001b[0mmode\u001b[0m\u001b[0;34m,\u001b[0m \u001b[0;34m**\u001b[0m\u001b[0mengine_kwargs\u001b[0m\u001b[0;34m)\u001b[0m\u001b[0;34m\u001b[0m\u001b[0;34m\u001b[0m\u001b[0m\n",
      "\u001b[0;31mModuleNotFoundError\u001b[0m: No module named 'openpyxl'"
     ]
    }
   ],
   "source": [
    "df.to_excel(\"final.xlsx\")"
   ]
  },
  {
   "cell_type": "code",
   "execution_count": null,
   "metadata": {},
   "outputs": [],
   "source": []
  },
  {
   "cell_type": "code",
   "execution_count": null,
   "metadata": {},
   "outputs": [],
   "source": []
  }
 ],
 "metadata": {
  "kernelspec": {
   "display_name": "Python 3",
   "language": "python",
   "name": "python3"
  },
  "language_info": {
   "codemirror_mode": {
    "name": "ipython",
    "version": 3
   },
   "file_extension": ".py",
   "mimetype": "text/x-python",
   "name": "python",
   "nbconvert_exporter": "python",
   "pygments_lexer": "ipython3",
   "version": "3.8.5-final"
  }
 },
 "nbformat": 4,
 "nbformat_minor": 4
}