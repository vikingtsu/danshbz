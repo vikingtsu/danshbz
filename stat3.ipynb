{
 "cells": [
  {
   "cell_type": "code",
   "execution_count": 89,
   "metadata": {},
   "outputs": [],
   "source": [
    "import pandas as pd\n",
    "import numpy as np\n",
    "import scipy.stats\n",
    "import matplotlib.pyplot as plt\n",
    "from scipy import stats\n"
   ]
  },
  {
   "cell_type": "code",
   "execution_count": 90,
   "metadata": {},
   "outputs": [],
   "source": [
    "df1=pd.read_csv(\"dan6m.csv\")\n",
    "df2=pd.read_csv(\"dan3m.csv\")\n",
    "df=pd.concat([df1,df2])\n",
    "df=df.dropna(how='all')\n",
    "df=df.dropna(how='all',axis='columns')\n",
    "\n",
    "f5=df['Capture005_export'].astype(float)\n",
    "f6=df['Capture006_export'].astype(float)\n",
    "f7=df['Capture007_export'].astype(float)\n",
    "f8=df['Capture008_export'].astype(float)\n",
    "f9=df['Capture009_export'].astype(float)\n",
    "\n",
    "f14=df['Capture014_export'].astype(float)\n",
    "f15=df['Capture015_export'].astype(float)\n",
    "f16=df['Capture016_export'].astype(float)\n",
    "f17=df['Capture017_export'].astype(float)\n",
    "f18=df['Capture018_export'].astype(float)\n"
   ]
  },
  {
   "cell_type": "code",
   "execution_count": 91,
   "metadata": {},
   "outputs": [
    {
     "data": {
      "text/html": [
       "<div>\n",
       "<style scoped>\n",
       "    .dataframe tbody tr th:only-of-type {\n",
       "        vertical-align: middle;\n",
       "    }\n",
       "\n",
       "    .dataframe tbody tr th {\n",
       "        vertical-align: top;\n",
       "    }\n",
       "\n",
       "    .dataframe thead th {\n",
       "        text-align: right;\n",
       "    }\n",
       "</style>\n",
       "<table border=\"1\" class=\"dataframe\">\n",
       "  <thead>\n",
       "    <tr style=\"text-align: right;\">\n",
       "      <th></th>\n",
       "      <th>Capture009_export</th>\n",
       "      <th>Capture008_export</th>\n",
       "      <th>Capture007_export</th>\n",
       "      <th>Capture006_export</th>\n",
       "      <th>Capture005_export</th>\n",
       "      <th>Capture018_export</th>\n",
       "      <th>Capture017_export</th>\n",
       "      <th>Capture016_export</th>\n",
       "      <th>Capture015_export</th>\n",
       "      <th>Capture014_export</th>\n",
       "    </tr>\n",
       "  </thead>\n",
       "  <tbody>\n",
       "    <tr>\n",
       "      <th>0</th>\n",
       "      <td>199.403064</td>\n",
       "      <td>185.159988</td>\n",
       "      <td>156.673836</td>\n",
       "      <td>28.486152</td>\n",
       "      <td>71.215380</td>\n",
       "      <td>NaN</td>\n",
       "      <td>NaN</td>\n",
       "      <td>NaN</td>\n",
       "      <td>NaN</td>\n",
       "      <td>NaN</td>\n",
       "    </tr>\n",
       "    <tr>\n",
       "      <th>1</th>\n",
       "      <td>384.563052</td>\n",
       "      <td>299.104596</td>\n",
       "      <td>199.403064</td>\n",
       "      <td>256.375368</td>\n",
       "      <td>256.375368</td>\n",
       "      <td>NaN</td>\n",
       "      <td>NaN</td>\n",
       "      <td>NaN</td>\n",
       "      <td>NaN</td>\n",
       "      <td>NaN</td>\n",
       "    </tr>\n",
       "    <tr>\n",
       "      <th>2</th>\n",
       "      <td>427.292280</td>\n",
       "      <td>455.778432</td>\n",
       "      <td>384.563052</td>\n",
       "      <td>427.292280</td>\n",
       "      <td>384.563052</td>\n",
       "      <td>NaN</td>\n",
       "      <td>NaN</td>\n",
       "      <td>NaN</td>\n",
       "      <td>NaN</td>\n",
       "      <td>NaN</td>\n",
       "    </tr>\n",
       "    <tr>\n",
       "      <th>3</th>\n",
       "      <td>441.535356</td>\n",
       "      <td>455.778432</td>\n",
       "      <td>413.049204</td>\n",
       "      <td>413.049204</td>\n",
       "      <td>413.049204</td>\n",
       "      <td>NaN</td>\n",
       "      <td>NaN</td>\n",
       "      <td>NaN</td>\n",
       "      <td>NaN</td>\n",
       "      <td>NaN</td>\n",
       "    </tr>\n",
       "    <tr>\n",
       "      <th>4</th>\n",
       "      <td>455.778432</td>\n",
       "      <td>441.535356</td>\n",
       "      <td>384.563052</td>\n",
       "      <td>413.049204</td>\n",
       "      <td>427.292280</td>\n",
       "      <td>NaN</td>\n",
       "      <td>NaN</td>\n",
       "      <td>NaN</td>\n",
       "      <td>NaN</td>\n",
       "      <td>NaN</td>\n",
       "    </tr>\n",
       "    <tr>\n",
       "      <th>...</th>\n",
       "      <td>...</td>\n",
       "      <td>...</td>\n",
       "      <td>...</td>\n",
       "      <td>...</td>\n",
       "      <td>...</td>\n",
       "      <td>...</td>\n",
       "      <td>...</td>\n",
       "      <td>...</td>\n",
       "      <td>...</td>\n",
       "      <td>...</td>\n",
       "    </tr>\n",
       "    <tr>\n",
       "      <th>20</th>\n",
       "      <td>NaN</td>\n",
       "      <td>NaN</td>\n",
       "      <td>NaN</td>\n",
       "      <td>NaN</td>\n",
       "      <td>NaN</td>\n",
       "      <td>216.701335</td>\n",
       "      <td>375.060002</td>\n",
       "      <td>422.289780</td>\n",
       "      <td>383.394669</td>\n",
       "      <td>372.281780</td>\n",
       "    </tr>\n",
       "    <tr>\n",
       "      <th>21</th>\n",
       "      <td>NaN</td>\n",
       "      <td>NaN</td>\n",
       "      <td>NaN</td>\n",
       "      <td>NaN</td>\n",
       "      <td>NaN</td>\n",
       "      <td>216.701335</td>\n",
       "      <td>377.838225</td>\n",
       "      <td>411.176892</td>\n",
       "      <td>388.951114</td>\n",
       "      <td>377.838225</td>\n",
       "    </tr>\n",
       "    <tr>\n",
       "      <th>22</th>\n",
       "      <td>NaN</td>\n",
       "      <td>NaN</td>\n",
       "      <td>NaN</td>\n",
       "      <td>NaN</td>\n",
       "      <td>NaN</td>\n",
       "      <td>NaN</td>\n",
       "      <td>377.838225</td>\n",
       "      <td>238.927113</td>\n",
       "      <td>208.366668</td>\n",
       "      <td>386.172891</td>\n",
       "    </tr>\n",
       "    <tr>\n",
       "      <th>23</th>\n",
       "      <td>NaN</td>\n",
       "      <td>NaN</td>\n",
       "      <td>NaN</td>\n",
       "      <td>NaN</td>\n",
       "      <td>NaN</td>\n",
       "      <td>NaN</td>\n",
       "      <td>NaN</td>\n",
       "      <td>238.927113</td>\n",
       "      <td>208.366668</td>\n",
       "      <td>36.116889</td>\n",
       "    </tr>\n",
       "    <tr>\n",
       "      <th>24</th>\n",
       "      <td>NaN</td>\n",
       "      <td>NaN</td>\n",
       "      <td>NaN</td>\n",
       "      <td>NaN</td>\n",
       "      <td>NaN</td>\n",
       "      <td>NaN</td>\n",
       "      <td>NaN</td>\n",
       "      <td>NaN</td>\n",
       "      <td>NaN</td>\n",
       "      <td>36.116889</td>\n",
       "    </tr>\n",
       "  </tbody>\n",
       "</table>\n",
       "<p>67 rows × 10 columns</p>\n",
       "</div>"
      ],
      "text/plain": [
       "    Capture009_export  Capture008_export  Capture007_export  \\\n",
       "0          199.403064         185.159988         156.673836   \n",
       "1          384.563052         299.104596         199.403064   \n",
       "2          427.292280         455.778432         384.563052   \n",
       "3          441.535356         455.778432         413.049204   \n",
       "4          455.778432         441.535356         384.563052   \n",
       "..                ...                ...                ...   \n",
       "20                NaN                NaN                NaN   \n",
       "21                NaN                NaN                NaN   \n",
       "22                NaN                NaN                NaN   \n",
       "23                NaN                NaN                NaN   \n",
       "24                NaN                NaN                NaN   \n",
       "\n",
       "    Capture006_export  Capture005_export  Capture018_export  \\\n",
       "0           28.486152          71.215380                NaN   \n",
       "1          256.375368         256.375368                NaN   \n",
       "2          427.292280         384.563052                NaN   \n",
       "3          413.049204         413.049204                NaN   \n",
       "4          413.049204         427.292280                NaN   \n",
       "..                ...                ...                ...   \n",
       "20                NaN                NaN         216.701335   \n",
       "21                NaN                NaN         216.701335   \n",
       "22                NaN                NaN                NaN   \n",
       "23                NaN                NaN                NaN   \n",
       "24                NaN                NaN                NaN   \n",
       "\n",
       "    Capture017_export  Capture016_export  Capture015_export  Capture014_export  \n",
       "0                 NaN                NaN                NaN                NaN  \n",
       "1                 NaN                NaN                NaN                NaN  \n",
       "2                 NaN                NaN                NaN                NaN  \n",
       "3                 NaN                NaN                NaN                NaN  \n",
       "4                 NaN                NaN                NaN                NaN  \n",
       "..                ...                ...                ...                ...  \n",
       "20         375.060002         422.289780         383.394669         372.281780  \n",
       "21         377.838225         411.176892         388.951114         377.838225  \n",
       "22         377.838225         238.927113         208.366668         386.172891  \n",
       "23                NaN         238.927113         208.366668          36.116889  \n",
       "24                NaN                NaN                NaN          36.116889  \n",
       "\n",
       "[67 rows x 10 columns]"
      ]
     },
     "execution_count": 91,
     "metadata": {},
     "output_type": "execute_result"
    }
   ],
   "source": [
    "df"
   ]
  },
  {
   "cell_type": "code",
   "execution_count": 92,
   "metadata": {},
   "outputs": [],
   "source": [
    "def mean_confidence_interval(data, confidence=0.95):\n",
    "    a = 1.0 * np.array(data)\n",
    "    n = len(a)\n",
    "    m, se = np.mean(a), scipy.stats.sem(a)\n",
    "    h = se * scipy.stats.t.ppf((1 + confidence) / 2., n-1)\n",
    "    return m, h"
   ]
  },
  {
   "cell_type": "markdown",
   "metadata": {},
   "source": [
    "## далее считаем доверительные интервалы для каждого эксперимента"
   ]
  },
  {
   "cell_type": "code",
   "execution_count": 93,
   "metadata": {},
   "outputs": [
    {
     "name": "stdout",
     "output_type": "stream",
     "text": [
      "Experiment #0 422.21+-23.87\n",
      "Experiment #1 355.40+-22.27\n",
      "Experiment #2 366.59+-20.42\n",
      "Experiment #3 394.64+-21.21\n",
      "Experiment #4 368.62+-19.88\n",
      "Experiment #5 363.95+-39.62\n",
      "Experiment #6 369.62+-20.04\n",
      "Experiment #7 390.46+-31.77\n",
      "Experiment #8 354.92+-33.70\n",
      "Experiment #9 334.61+-48.73\n"
     ]
    }
   ],
   "source": [
    "for i in range(10):\n",
    "    m,h=mean_confidence_interval(df[df.columns[i]].dropna().astype(float))\n",
    "    print(\"Experiment #%i %2.2f+-%2.2f\" % (i, m, h))"
   ]
  },
  {
   "cell_type": "markdown",
   "metadata": {},
   "source": [
    "## доверительные интервалы для каждого эксперимента + Zscore"
   ]
  },
  {
   "cell_type": "code",
   "execution_count": 94,
   "metadata": {},
   "outputs": [
    {
     "name": "stdout",
     "output_type": "stream",
     "text": [
      "Experiment #0 435.60+-7.76\n",
      "Experiment #1 356.60+-14.95\n",
      "Experiment #2 386.81+-5.91\n",
      "Experiment #3 405.93+-7.03\n",
      "Experiment #4 377.63+-12.09\n",
      "Experiment #5 392.66+-2.01\n",
      "Experiment #6 375.46+-2.13\n",
      "Experiment #7 421.46+-2.24\n",
      "Experiment #8 389.23+-1.19\n",
      "Experiment #9 382.47+-13.17\n"
     ]
    }
   ],
   "source": [
    "for i in range(10):\n",
    "    temp=df[df.columns[i]].dropna().astype(float)\n",
    "    z = np.abs(stats.zscore(temp))\n",
    "    temp1 = temp[(z < 1)]\n",
    "    m,h=mean_confidence_interval(temp1)\n",
    "    print(\"Experiment #%i %2.2f+-%2.2f\" % (i, m, h))"
   ]
  },
  {
   "cell_type": "markdown",
   "metadata": {},
   "source": [
    "## доверительные интервалы по эксперимертам суммарно для 3х метров"
   ]
  },
  {
   "cell_type": "code",
   "execution_count": 95,
   "metadata": {},
   "outputs": [
    {
     "name": "stdout",
     "output_type": "stream",
     "text": [
      "Experiment 3m 362.39+-15.69\n",
      "Experiment 3m + Zscore 392.97+-3.82\n"
     ]
    }
   ],
   "source": [
    "cylindr3m=[f14,f15,f16,f17,f18]\n",
    "cyl3m=pd.concat(cylindr3m)\n",
    "cyl3m=cyl3m.dropna()\n",
    "z = np.abs(stats.zscore(cyl3m))\n",
    "m,h=mean_confidence_interval(cyl3m)\n",
    "print(\"Experiment 3m %2.2f+-%2.2f\" % (m, h))\n",
    "cyl3mp = cyl3m[(z < 1)]\n",
    "m,h=mean_confidence_interval(cyl3mp)\n",
    "print(\"Experiment 3m + Zscore %2.2f+-%2.2f\" % (m, h))"
   ]
  },
  {
   "cell_type": "markdown",
   "metadata": {},
   "source": [
    "## доверительные интервалы по эксперимертам суммарно для 6х метров"
   ]
  },
  {
   "cell_type": "code",
   "execution_count": 96,
   "metadata": {},
   "outputs": [
    {
     "name": "stdout",
     "output_type": "stream",
     "text": [
      "Experiment 6m 381.43+-9.89\n",
      "Experiment 6m + Zscore 394.72+-4.87\n"
     ]
    }
   ],
   "source": [
    "cylindr6m=[f5,f6,f7,f8,f9]\n",
    "cyl6m=pd.concat(cylindr6m)\n",
    "cyl6m=cyl6m.dropna()\n",
    "z = np.abs(stats.zscore(cyl6m))\n",
    "\n",
    "m,h=mean_confidence_interval(cyl6m)\n",
    "print(\"Experiment 6m %2.2f+-%2.2f\" % (m, h))\n",
    "cyl6mp = cyl6m[(z < 1)]\n",
    "m,h=mean_confidence_interval(cyl6mp)\n",
    "print(\"Experiment 6m + Zscore %2.2f+-%2.2f\" % (m, h))\n"
   ]
  },
  {
   "cell_type": "markdown",
   "metadata": {},
   "source": [
    "## относительные ошибки в процентах"
   ]
  },
  {
   "cell_type": "code",
   "execution_count": 97,
   "metadata": {},
   "outputs": [
    {
     "name": "stdout",
     "output_type": "stream",
     "text": [
      "Max error 3m: 20.821\n",
      "Max error 6m: 21.663\n",
      "Mean error 3m: 4.215\n",
      "Mean error 6m: 6.395\n",
      "Median error 3m: 3.457\n",
      "Median error 6m: 3.859\n",
      "Min error 3m: 0.016\n",
      "Min error 6m: 0.298\n"
     ]
    }
   ],
   "source": [
    "cyl3=np.array(cyl3mp)\n",
    "cyl3=np.abs(cyl3-400)/400*100\n",
    "\n",
    "cyl6=np.array(cyl6mp)\n",
    "cyl6=np.abs(cyl6-400)/400*100\n",
    "\n",
    "print(\"Max error 3m: %2.3f\"%np.max(cyl3))\n",
    "print(\"Max error 6m: %2.3f\"%np.max(cyl6))\n",
    "\n",
    "print(\"Mean error 3m: %2.3f\"%np.mean(cyl3))\n",
    "print(\"Mean error 6m: %2.3f\"%np.mean(cyl6))\n",
    "\n",
    "print(\"Median error 3m: %2.3f\"%np.median(cyl3))\n",
    "print(\"Median error 6m: %2.3f\"%np.median(cyl6))\n",
    "\n",
    "print(\"Min error 3m: %2.3f\"%np.min(cyl3))\n",
    "print(\"Min error 6m: %2.3f\"%np.min(cyl6))"
   ]
  },
  {
   "cell_type": "markdown",
   "metadata": {},
   "source": [
    "## все ошибки"
   ]
  },
  {
   "cell_type": "code",
   "execution_count": 98,
   "metadata": {},
   "outputs": [
    {
     "name": "stdout",
     "output_type": "stream",
     "text": [
      "[ 0.68  0.71  0.71  0.71  1.41  0.71  1.37  0.68  1.37 13.88  4.85  4.85\n",
      "  3.46  4.85  4.15  5.54  2.76  6.93  5.54  3.46  3.46  2.76  2.76  2.76\n",
      "  2.76  2.07  3.46  3.46  2.07  2.07  2.07  2.76  2.76  2.76  2.76  2.76\n",
      "  2.07  1.37  4.15  2.76 20.82  6.27  2.79  4.88  5.57  4.88  6.27  5.57\n",
      "  4.88  6.27  6.27  6.96  4.18  6.27  6.27  6.96  5.57  4.88  4.18  5.57\n",
      "  2.79 11.82  4.85  4.15  4.85  7.62  6.23  8.32  4.85  4.85  4.85  6.93\n",
      "  7.62  6.93  5.54  6.93  7.62  6.23  6.23  6.93  6.23  5.54  5.54  0.71\n",
      "  1.37  2.76  2.07  2.07  2.07  2.07  2.07  0.68  0.02  3.46  2.07  2.76\n",
      "  1.37  2.76  2.07  2.07  2.07]\n"
     ]
    }
   ],
   "source": [
    "np.set_printoptions(precision=2,suppress=True)\n",
    "print(np.array(cyl3))"
   ]
  },
  {
   "cell_type": "code",
   "execution_count": 99,
   "metadata": {},
   "outputs": [
    {
     "name": "stdout",
     "output_type": "stream",
     "text": [
      "[ 3.86  3.26  6.82  0.3  10.38  3.26  6.82  0.3   3.26  3.26  6.82 10.38\n",
      "  6.82  3.26  0.3   0.3   3.86  3.26  0.3   0.3   3.86  7.42  0.3   7.42\n",
      " 10.98  7.42 10.98 10.98 10.98 10.98 10.98 14.54 21.66 18.1  18.1  21.66\n",
      " 21.66 18.1  18.1   6.82  3.26  3.26  0.3   6.82  3.26  6.82  3.26  0.3\n",
      " 10.38  3.86  3.26  0.3   3.26  3.26  6.82  3.26  6.82  3.26  0.3   0.3\n",
      "  6.82 10.38  0.3   3.26  0.3  10.98 10.98  3.26  3.26  0.3   3.26  0.3\n",
      "  3.26  0.3   0.3  10.98 10.98  3.86  3.26  3.86  7.42 10.98  3.86  0.3\n",
      "  0.3   3.86  3.86  3.86  6.82 10.98  7.42  3.86  0.3   7.42  7.42  7.42\n",
      "  3.26  3.26  7.42  7.42  3.26  7.42  3.86  3.26  3.86  3.86  0.3   0.3\n",
      "  3.26  0.3   3.86  3.86  7.42  3.86 10.98 10.38  6.82  3.26  6.82 10.38\n",
      "  6.82  6.82  6.82  3.86  0.3   3.26  0.3   0.3   0.3  10.98  3.86 10.98\n",
      " 10.98 10.98  3.86  7.42  3.86 10.98 10.98 14.54 14.54 18.1  14.54 21.66\n",
      " 21.66  3.86  6.82 10.38  6.82  3.26  3.26 10.38  3.26  3.86  3.26  6.82\n",
      "  6.82 10.38  0.3   6.82 10.38  6.82  6.82 10.38  3.26 10.38 10.38 10.38\n",
      " 10.38 10.38  3.26]\n"
     ]
    }
   ],
   "source": [
    "np.set_printoptions(precision=2,suppress=True)\n",
    "print(np.array(cyl6))"
   ]
  },
  {
   "cell_type": "markdown",
   "metadata": {},
   "source": [
    "## далее для каждого второго, третьего и четвертого, пятого и шестого элементов"
   ]
  },
  {
   "cell_type": "markdown",
   "metadata": {},
   "source": [
    "## для каждого второго"
   ]
  },
  {
   "cell_type": "code",
   "execution_count": 100,
   "metadata": {},
   "outputs": [
    {
     "name": "stdout",
     "output_type": "stream",
     "text": [
      "Experiment #0 427.29+-32.42\n",
      "Experiment #1 354.72+-31.89\n",
      "Experiment #2 362.86+-30.93\n",
      "Experiment #3 385.92+-38.79\n",
      "Experiment #4 365.57+-35.94\n",
      "Experiment #5 345.76+-75.46\n",
      "Experiment #6 359.32+-38.07\n",
      "Experiment #7 385.02+-58.33\n",
      "Experiment #8 351.45+-56.48\n",
      "Experiment #9 324.84+-76.38\n"
     ]
    }
   ],
   "source": [
    "for i in range(10):\n",
    "    m,h=mean_confidence_interval(df[df.columns[i]].dropna().astype(float).to_numpy()[::2])\n",
    "    print(\"Experiment #%i %2.2f+-%2.2f\" % (i, m, h))"
   ]
  },
  {
   "cell_type": "markdown",
   "metadata": {},
   "source": [
    "## для каждого третьего"
   ]
  },
  {
   "cell_type": "code",
   "execution_count": 101,
   "metadata": {},
   "outputs": [
    {
     "name": "stdout",
     "output_type": "stream",
     "text": [
      "Experiment #0 429.33+-42.53\n",
      "Experiment #1 347.94+-41.90\n",
      "Experiment #2 368.29+-36.90\n",
      "Experiment #3 375.41+-59.27\n",
      "Experiment #4 361.16+-52.87\n",
      "Experiment #5 326.79+-107.45\n",
      "Experiment #6 350.40+-61.23\n",
      "Experiment #7 385.13+-80.51\n",
      "Experiment #8 355.96+-78.96\n",
      "Experiment #9 309.31+-113.29\n"
     ]
    }
   ],
   "source": [
    "for i in range(10):\n",
    "    m,h=mean_confidence_interval(df[df.columns[i]].dropna().astype(float).to_numpy()[::3])\n",
    "    print(\"Experiment #%i %2.2f+-%2.2f\" % (i, m, h))"
   ]
  },
  {
   "cell_type": "markdown",
   "metadata": {},
   "source": [
    "## для каждого четвертого"
   ]
  },
  {
   "cell_type": "code",
   "execution_count": 102,
   "metadata": {},
   "outputs": [
    {
     "name": "stdout",
     "output_type": "stream",
     "text": [
      "Experiment #0 424.70+-66.41\n",
      "Experiment #1 341.83+-53.96\n",
      "Experiment #2 347.01+-61.46\n",
      "Experiment #3 369.03+-78.02\n",
      "Experiment #4 356.08+-68.33\n",
      "Experiment #5 305.14+-151.59\n",
      "Experiment #6 340.80+-88.23\n",
      "Experiment #7 377.84+-118.60\n",
      "Experiment #8 343.57+-113.83\n",
      "Experiment #9 286.55+-149.92\n"
     ]
    }
   ],
   "source": [
    "for i in range(10):\n",
    "    m,h=mean_confidence_interval(df[df.columns[i]].dropna().astype(float).to_numpy()[::4])\n",
    "    print(\"Experiment #%i %2.2f+-%2.2f\" % (i, m, h))"
   ]
  },
  {
   "cell_type": "markdown",
   "metadata": {},
   "source": [
    "## для каждого пятого"
   ]
  },
  {
   "cell_type": "code",
   "execution_count": 103,
   "metadata": {},
   "outputs": [
    {
     "name": "stdout",
     "output_type": "stream",
     "text": [
      "Experiment #0 389.31+-69.03\n",
      "Experiment #1 335.50+-66.17\n",
      "Experiment #2 333.92+-74.88\n",
      "Experiment #3 351.33+-94.50\n",
      "Experiment #4 341.83+-82.11\n",
      "Experiment #5 288.94+-192.92\n",
      "Experiment #6 333.39+-113.89\n",
      "Experiment #7 368.39+-153.51\n",
      "Experiment #8 335.05+-147.76\n",
      "Experiment #9 325.05+-179.93\n"
     ]
    }
   ],
   "source": [
    "for i in range(10):\n",
    "    m,h=mean_confidence_interval(df[df.columns[i]].dropna().astype(float).to_numpy()[::5])\n",
    "    print(\"Experiment #%i %2.2f+-%2.2f\" % (i, m, h))"
   ]
  },
  {
   "cell_type": "markdown",
   "metadata": {},
   "source": [
    "## для каждого шестого"
   ]
  },
  {
   "cell_type": "code",
   "execution_count": 104,
   "metadata": {},
   "outputs": [
    {
     "name": "stdout",
     "output_type": "stream",
     "text": [
      "Experiment #0 413.05+-95.60\n",
      "Experiment #1 331.66+-70.82\n",
      "Experiment #2 343.87+-76.97\n",
      "Experiment #3 352.01+-134.49\n",
      "Experiment #4 343.87+-116.94\n",
      "Experiment #5 305.60+-274.09\n",
      "Experiment #6 322.27+-162.15\n",
      "Experiment #7 353.53+-218.92\n",
      "Experiment #8 323.66+-213.68\n",
      "Experiment #9 245.59+-222.02\n"
     ]
    }
   ],
   "source": [
    "for i in range(10):\n",
    "    m,h=mean_confidence_interval(df[df.columns[i]].dropna().astype(float).to_numpy()[::6])\n",
    "    print(\"Experiment #%i %2.2f+-%2.2f\" % (i, m, h))"
   ]
  },
  {
   "cell_type": "markdown",
   "metadata": {},
   "source": [
    "## для каждого второго + Z-score"
   ]
  },
  {
   "cell_type": "code",
   "execution_count": 105,
   "metadata": {},
   "outputs": [
    {
     "name": "stdout",
     "output_type": "stream",
     "text": [
      "Experiment #0 437.08+-10.63\n",
      "Experiment #1 361.56+-20.35\n",
      "Experiment #2 383.81+-7.75\n",
      "Experiment #3 403.79+-11.29\n",
      "Experiment #4 380.29+-19.72\n",
      "Experiment #5 393.27+-2.16\n",
      "Experiment #6 376.58+-2.81\n",
      "Experiment #7 423.40+-2.33\n",
      "Experiment #8 388.67+-1.98\n",
      "Experiment #9 374.55+-25.59\n"
     ]
    }
   ],
   "source": [
    "for i in range(10):\n",
    "    temp=df[df.columns[i]].dropna().astype(float).to_numpy()[::2]\n",
    "    z = np.abs(stats.zscore(temp))\n",
    "    temp1 = temp[(z < 1)]\n",
    "    m,h=mean_confidence_interval(temp1)\n",
    "    print(\"Experiment #%i %2.2f+-%2.2f\" % (i, m, h))"
   ]
  },
  {
   "cell_type": "markdown",
   "metadata": {},
   "source": [
    "## для каждого третьего + Z-score"
   ]
  },
  {
   "cell_type": "code",
   "execution_count": 106,
   "metadata": {},
   "outputs": [
    {
     "name": "stdout",
     "output_type": "stream",
     "text": [
      "Experiment #0 441.54+-18.10\n",
      "Experiment #1 354.65+-29.39\n",
      "Experiment #2 384.56+-12.17\n",
      "Experiment #3 402.09+-14.97\n",
      "Experiment #4 383.47+-23.69\n",
      "Experiment #5 366.73+-61.24\n",
      "Experiment #6 376.25+-4.41\n",
      "Experiment #7 419.11+-5.83\n",
      "Experiment #8 389.35+-1.77\n",
      "Experiment #9 383.00+-18.01\n"
     ]
    }
   ],
   "source": [
    "for i in range(10):\n",
    "    temp=df[df.columns[i]].dropna().astype(float).to_numpy()[::3]\n",
    "    z = np.abs(stats.zscore(temp))\n",
    "    temp1 = temp[(z < 1)]\n",
    "    m,h=mean_confidence_interval(temp1)\n",
    "    print(\"Experiment #%i %2.2f+-%2.2f\" % (i, m, h))"
   ]
  },
  {
   "cell_type": "markdown",
   "metadata": {},
   "source": [
    "## для каждого четвертого + Z-score"
   ]
  },
  {
   "cell_type": "code",
   "execution_count": 107,
   "metadata": {},
   "outputs": [
    {
     "name": "stdout",
     "output_type": "stream",
     "text": [
      "Experiment #0 466.86+-23.08\n",
      "Experiment #1 349.97+-37.15\n",
      "Experiment #2 387.73+-10.64\n",
      "Experiment #3 403.08+-20.41\n",
      "Experiment #4 384.56+-28.42\n",
      "Experiment #5 356.72+-97.19\n",
      "Experiment #6 375.06+-6.90\n",
      "Experiment #7 423.96+-4.63\n",
      "Experiment #8 387.84+-3.93\n",
      "Experiment #9 380.62+-30.17\n"
     ]
    }
   ],
   "source": [
    "for i in range(10):\n",
    "    temp=df[df.columns[i]].dropna().astype(float).to_numpy()[::4]\n",
    "    z = np.abs(stats.zscore(temp))\n",
    "    temp1 = temp[(z < 1)]\n",
    "    m,h=mean_confidence_interval(temp1)\n",
    "    print(\"Experiment #%i %2.2f+-%2.2f\" % (i, m, h))"
   ]
  },
  {
   "cell_type": "markdown",
   "metadata": {},
   "source": [
    "## для каждого пятого + Z-score"
   ]
  },
  {
   "cell_type": "code",
   "execution_count": 108,
   "metadata": {},
   "outputs": [
    {
     "name": "stdout",
     "output_type": "stream",
     "text": [
      "Experiment #0 433.40+-10.36\n",
      "Experiment #1 347.53+-63.27\n",
      "Experiment #2 382.53+-14.08\n",
      "Experiment #3 391.68+-19.09\n",
      "Experiment #4 375.66+-29.81\n",
      "Experiment #5 349.36+-140.93\n",
      "Experiment #6 374.37+-7.55\n",
      "Experiment #7 423.68+-2.55\n",
      "Experiment #8 388.26+-5.56\n",
      "Experiment #9 389.65+-21.47\n"
     ]
    }
   ],
   "source": [
    "for i in range(10):\n",
    "    temp=df[df.columns[i]].dropna().astype(float).to_numpy()[::5]\n",
    "    z = np.abs(stats.zscore(temp))\n",
    "    temp1 = temp[(z < 1)]\n",
    "    m,h=mean_confidence_interval(temp1)\n",
    "    print(\"Experiment #%i %2.2f+-%2.2f\" % (i, m, h))"
   ]
  },
  {
   "cell_type": "markdown",
   "metadata": {},
   "source": [
    "## для каждого шестого + Z-score"
   ]
  },
  {
   "cell_type": "code",
   "execution_count": 109,
   "metadata": {},
   "outputs": [
    {
     "name": "stdout",
     "output_type": "stream",
     "text": [
      "Experiment #0 435.84+-47.78\n",
      "Experiment #1 344.68+-49.07\n",
      "Experiment #2 375.07+-12.20\n",
      "Experiment #3 405.93+-32.40\n",
      "Experiment #4 389.31+-45.01\n",
      "Experiment #5 391.73+-0.00\n",
      "Experiment #6 373.21+-7.97\n",
      "Experiment #7 422.29+-11.95\n",
      "Experiment #8 390.80+-3.98\n",
      "Experiment #9 375.06+-72.71\n"
     ]
    }
   ],
   "source": [
    "for i in range(10):\n",
    "    temp=df[df.columns[i]].dropna().astype(float).to_numpy()[::6]\n",
    "    z = np.abs(stats.zscore(temp))\n",
    "    temp1 = temp[(z < 1)]\n",
    "    m,h=mean_confidence_interval(temp1)\n",
    "    print(\"Experiment #%i %2.2f+-%2.2f\" % (i, m, h))"
   ]
  },
  {
   "cell_type": "markdown",
   "metadata": {},
   "source": [
    "## доверительные интервалы по эксперимертам суммарно для 3х метров, каждый второй элемент"
   ]
  },
  {
   "cell_type": "code",
   "execution_count": 110,
   "metadata": {},
   "outputs": [
    {
     "name": "stdout",
     "output_type": "stream",
     "text": [
      "Experiment 3m 352.93+-25.18\n",
      "Experiment 3m + Zscore 390.64+-6.98\n"
     ]
    }
   ],
   "source": [
    "cylindr3m=[]\n",
    "for i in range(5,10):\n",
    "    cylindr3m.append(df[df.columns[i]].dropna().astype(float)[::2])\n",
    "cyl3m=pd.concat(cylindr3m)\n",
    "cyl3m=cyl3m.dropna()\n",
    "z = np.abs(stats.zscore(cyl3m))\n",
    "m,h=mean_confidence_interval(cyl3m)\n",
    "print(\"Experiment 3m %2.2f+-%2.2f\" % (m, h))\n",
    "cyl3mp = cyl3m[(z < 1)]\n",
    "m,h=mean_confidence_interval(cyl3mp)\n",
    "print(\"Experiment 3m + Zscore %2.2f+-%2.2f\" % (m, h))\n"
   ]
  },
  {
   "cell_type": "markdown",
   "metadata": {},
   "source": [
    "## доверительные интервалы по эксперимертам суммарно для 6ти метров, каждый второй элемент"
   ]
  },
  {
   "cell_type": "code",
   "execution_count": 111,
   "metadata": {},
   "outputs": [
    {
     "name": "stdout",
     "output_type": "stream",
     "text": [
      "Experiment 6m 379.27+-15.10\n",
      "Experiment 6m + Zscore 395.45+-7.41\n"
     ]
    }
   ],
   "source": [
    "cylindr6m=[]\n",
    "for i in range(0,5):\n",
    "    cylindr6m.append(df[df.columns[i]].dropna().astype(float)[::2])\n",
    "cyl6m=pd.concat(cylindr6m)\n",
    "cyl6m=cyl6m.dropna()\n",
    "z = np.abs(stats.zscore(cyl6m))\n",
    "m,h=mean_confidence_interval(cyl6m)\n",
    "print(\"Experiment 6m %2.2f+-%2.2f\" % (m, h))\n",
    "cyl6mp = cyl6m[(z < 1)]\n",
    "m,h=mean_confidence_interval(cyl6mp)\n",
    "print(\"Experiment 6m + Zscore %2.2f+-%2.2f\" % (m, h))"
   ]
  },
  {
   "cell_type": "code",
   "execution_count": 112,
   "metadata": {},
   "outputs": [
    {
     "name": "stdout",
     "output_type": "stream",
     "text": [
      "Max error 3m: 31.934\n",
      "Max error 6m: 21.663\n",
      "Mean error 3m: 4.718\n",
      "Mean error 6m: 7.118\n",
      "Median error 3m: 4.846\n",
      "Median error 6m: 6.823\n",
      "Min error 3m: 0.016\n",
      "Min error 6m: 0.298\n"
     ]
    }
   ],
   "source": [
    "cyl3=np.array(cyl3mp)\n",
    "cyl3=np.abs(cyl3-400)/400*100\n",
    "\n",
    "cyl6=np.array(cyl6mp)\n",
    "cyl6=np.abs(cyl6-400)/400*100\n",
    "\n",
    "print(\"Max error 3m: %2.3f\"%np.max(cyl3))\n",
    "print(\"Max error 6m: %2.3f\"%np.max(cyl6))\n",
    "\n",
    "print(\"Mean error 3m: %2.3f\"%np.mean(cyl3))\n",
    "print(\"Mean error 6m: %2.3f\"%np.mean(cyl6))\n",
    "\n",
    "print(\"Median error 3m: %2.3f\"%np.median(cyl3))\n",
    "print(\"Median error 6m: %2.3f\"%np.median(cyl6))\n",
    "\n",
    "print(\"Min error 3m: %2.3f\"%np.min(cyl3))\n",
    "print(\"Min error 6m: %2.3f\"%np.min(cyl6))"
   ]
  },
  {
   "cell_type": "markdown",
   "metadata": {},
   "source": [
    "## доверительные интервалы по эксперимертам суммарно для 3х метров, каждый третий элемент"
   ]
  },
  {
   "cell_type": "code",
   "execution_count": 113,
   "metadata": {},
   "outputs": [
    {
     "name": "stdout",
     "output_type": "stream",
     "text": [
      "Experiment 3m 344.64+-34.67\n",
      "Experiment 3m + Zscore 391.89+-6.14\n"
     ]
    }
   ],
   "source": [
    "cylindr3m=[]\n",
    "for i in range(5,10):\n",
    "    cylindr3m.append(df[df.columns[i]].dropna().astype(float)[::3])\n",
    "cyl3m=pd.concat(cylindr3m)\n",
    "cyl3m=cyl3m.dropna()\n",
    "z = np.abs(stats.zscore(cyl3m))\n",
    "m,h=mean_confidence_interval(cyl3m)\n",
    "print(\"Experiment 3m %2.2f+-%2.2f\" % (m, h))\n",
    "cyl3mp = cyl3m[(z < 1)]\n",
    "m,h=mean_confidence_interval(cyl3mp)\n",
    "print(\"Experiment 3m + Zscore %2.2f+-%2.2f\" % (m, h))"
   ]
  },
  {
   "cell_type": "markdown",
   "metadata": {},
   "source": [
    "## доверительные интервалы по эксперимертам суммарно для 6ти метров, каждый третий элемент"
   ]
  },
  {
   "cell_type": "code",
   "execution_count": 114,
   "metadata": {},
   "outputs": [
    {
     "name": "stdout",
     "output_type": "stream",
     "text": [
      "Experiment 6m 376.42+-20.15\n",
      "Experiment 6m + Zscore 393.50+-9.14\n"
     ]
    }
   ],
   "source": [
    "cylindr6m=[]\n",
    "for i in range(0,5):\n",
    "    cylindr6m.append(df[df.columns[i]].dropna().astype(float)[::3])\n",
    "cyl6m=pd.concat(cylindr6m)\n",
    "cyl6m=cyl6m.dropna()\n",
    "z = np.abs(stats.zscore(cyl6m))\n",
    "m,h=mean_confidence_interval(cyl6m)\n",
    "print(\"Experiment 6m %2.2f+-%2.2f\" % (m, h))\n",
    "cyl6mp = cyl6m[(z < 1)]\n",
    "m,h=mean_confidence_interval(cyl6mp)\n",
    "print(\"Experiment 6m + Zscore %2.2f+-%2.2f\" % (m, h))"
   ]
  },
  {
   "cell_type": "code",
   "execution_count": 115,
   "metadata": {},
   "outputs": [
    {
     "name": "stdout",
     "output_type": "stream",
     "text": [
      "Max error 3m: 13.875\n",
      "Max error 6m: 25.224\n",
      "Mean error 3m: 4.036\n",
      "Mean error 6m: 6.926\n",
      "Median error 3m: 3.126\n",
      "Median error 6m: 6.823\n",
      "Min error 3m: 0.679\n",
      "Min error 6m: 0.298\n"
     ]
    }
   ],
   "source": [
    "cyl3=np.array(cyl3mp)\n",
    "cyl3=np.abs(cyl3-400)/400*100\n",
    "\n",
    "cyl6=np.array(cyl6mp)\n",
    "cyl6=np.abs(cyl6-400)/400*100\n",
    "\n",
    "print(\"Max error 3m: %2.3f\"%np.max(cyl3))\n",
    "print(\"Max error 6m: %2.3f\"%np.max(cyl6))\n",
    "\n",
    "print(\"Mean error 3m: %2.3f\"%np.mean(cyl3))\n",
    "print(\"Mean error 6m: %2.3f\"%np.mean(cyl6))\n",
    "\n",
    "print(\"Median error 3m: %2.3f\"%np.median(cyl3))\n",
    "print(\"Median error 6m: %2.3f\"%np.median(cyl6))\n",
    "\n",
    "print(\"Min error 3m: %2.3f\"%np.min(cyl3))\n",
    "print(\"Min error 6m: %2.3f\"%np.min(cyl6))"
   ]
  },
  {
   "cell_type": "markdown",
   "metadata": {},
   "source": [
    "## доверительные интервалы по эксперимертам суммарно для 3х метров, каждый четвертый элемент"
   ]
  },
  {
   "cell_type": "code",
   "execution_count": 116,
   "metadata": {},
   "outputs": [
    {
     "name": "stdout",
     "output_type": "stream",
     "text": [
      "Experiment 3m 329.35+-45.05\n",
      "Experiment 3m + Zscore 384.84+-16.70\n"
     ]
    }
   ],
   "source": [
    "cylindr3m=[]\n",
    "for i in range(5,10):\n",
    "    cylindr3m.append(df[df.columns[i]].dropna().astype(float)[::4])\n",
    "cyl3m=pd.concat(cylindr3m)\n",
    "cyl3m=cyl3m.dropna()\n",
    "z = np.abs(stats.zscore(cyl3m))\n",
    "m,h=mean_confidence_interval(cyl3m)\n",
    "print(\"Experiment 3m %2.2f+-%2.2f\" % (m, h))\n",
    "cyl3mp = cyl3m[(z < 1)]\n",
    "m,h=mean_confidence_interval(cyl3mp)\n",
    "print(\"Experiment 3m + Zscore %2.2f+-%2.2f\" % (m, h))"
   ]
  },
  {
   "cell_type": "markdown",
   "metadata": {},
   "source": [
    "## доверительные интервалы по эксперимертам суммарно для 6ти метров, каждый четвертый элемент"
   ]
  },
  {
   "cell_type": "code",
   "execution_count": 117,
   "metadata": {},
   "outputs": [
    {
     "name": "stdout",
     "output_type": "stream",
     "text": [
      "Experiment 6m 367.73+-26.87\n",
      "Experiment 6m + Zscore 390.71+-13.19\n"
     ]
    }
   ],
   "source": [
    "cylindr6m=[]\n",
    "for i in range(0,5):\n",
    "    cylindr6m.append(df[df.columns[i]].dropna().astype(float)[::4])\n",
    "cyl6m=pd.concat(cylindr6m)\n",
    "cyl6m=cyl6m.dropna()\n",
    "z = np.abs(stats.zscore(cyl6m))\n",
    "m,h=mean_confidence_interval(cyl6m)\n",
    "print(\"Experiment 6m %2.2f+-%2.2f\" % (m, h))\n",
    "cyl6mp = cyl6m[(z < 1)]\n",
    "m,h=mean_confidence_interval(cyl6mp)\n",
    "print(\"Experiment 6m + Zscore %2.2f+-%2.2f\" % (m, h))"
   ]
  },
  {
   "cell_type": "code",
   "execution_count": 118,
   "metadata": {},
   "outputs": [
    {
     "name": "stdout",
     "output_type": "stream",
     "text": [
      "Max error 3m: 45.825\n",
      "Max error 6m: 32.345\n",
      "Mean error 3m: 6.300\n",
      "Mean error 6m: 8.390\n",
      "Median error 3m: 4.846\n",
      "Median error 6m: 6.823\n",
      "Min error 3m: 0.711\n",
      "Min error 6m: 0.298\n"
     ]
    }
   ],
   "source": [
    "cyl3=np.array(cyl3mp)\n",
    "cyl3=np.abs(cyl3-400)/400*100\n",
    "\n",
    "cyl6=np.array(cyl6mp)\n",
    "cyl6=np.abs(cyl6-400)/400*100\n",
    "\n",
    "print(\"Max error 3m: %2.3f\"%np.max(cyl3))\n",
    "print(\"Max error 6m: %2.3f\"%np.max(cyl6))\n",
    "\n",
    "print(\"Mean error 3m: %2.3f\"%np.mean(cyl3))\n",
    "print(\"Mean error 6m: %2.3f\"%np.mean(cyl6))\n",
    "\n",
    "print(\"Median error 3m: %2.3f\"%np.median(cyl3))\n",
    "print(\"Median error 6m: %2.3f\"%np.median(cyl6))\n",
    "\n",
    "print(\"Min error 3m: %2.3f\"%np.min(cyl3))\n",
    "print(\"Min error 6m: %2.3f\"%np.min(cyl6))\n"
   ]
  },
  {
   "cell_type": "markdown",
   "metadata": {},
   "source": [
    "## доверительные интервалы по эксперимертам суммарно для 3х метров, каждый пятый элемент"
   ]
  },
  {
   "cell_type": "code",
   "execution_count": 119,
   "metadata": {},
   "outputs": [
    {
     "name": "stdout",
     "output_type": "stream",
     "text": [
      "Experiment 3m 330.16+-49.71\n",
      "Experiment 3m + Zscore 385.06+-20.33\n"
     ]
    }
   ],
   "source": [
    "cylindr3m=[]\n",
    "for i in range(5,10):\n",
    "    cylindr3m.append(df[df.columns[i]].dropna().astype(float)[::5])\n",
    "cyl3m=pd.concat(cylindr3m)\n",
    "cyl3m=cyl3m.dropna()\n",
    "z = np.abs(stats.zscore(cyl3m))\n",
    "m,h=mean_confidence_interval(cyl3m)\n",
    "print(\"Experiment 3m %2.2f+-%2.2f\" % (m, h))\n",
    "cyl3mp = cyl3m[(z < 1)]\n",
    "m,h=mean_confidence_interval(cyl3mp)\n",
    "print(\"Experiment 3m + Zscore %2.2f+-%2.2f\" % (m, h))"
   ]
  },
  {
   "cell_type": "markdown",
   "metadata": {},
   "source": [
    "## доверительные интервалы по эксперимертам суммарно для 6ти метров, каждый пятый элемент"
   ]
  },
  {
   "cell_type": "code",
   "execution_count": 120,
   "metadata": {},
   "outputs": [
    {
     "name": "stdout",
     "output_type": "stream",
     "text": [
      "Experiment 6m 350.38+-29.72\n",
      "Experiment 6m + Zscore 387.19+-13.89\n"
     ]
    }
   ],
   "source": [
    "cylindr6m=[]\n",
    "for i in range(0,5):\n",
    "    cylindr6m.append(df[df.columns[i]].dropna().astype(float)[::5])\n",
    "cyl6m=pd.concat(cylindr6m)\n",
    "cyl6m=cyl6m.dropna()\n",
    "z = np.abs(stats.zscore(cyl6m))\n",
    "m,h=mean_confidence_interval(cyl6m)\n",
    "print(\"Experiment 6m %2.2f+-%2.2f\" % (m, h))\n",
    "cyl6mp = cyl6m[(z < 1)]\n",
    "m,h=mean_confidence_interval(cyl6mp)\n",
    "print(\"Experiment 6m + Zscore %2.2f+-%2.2f\" % (m, h))"
   ]
  },
  {
   "cell_type": "code",
   "execution_count": 121,
   "metadata": {},
   "outputs": [
    {
     "name": "stdout",
     "output_type": "stream",
     "text": [
      "Max error 3m: 45.825\n",
      "Max error 6m: 32.345\n",
      "Mean error 3m: 6.175\n",
      "Mean error 6m: 7.856\n",
      "Median error 3m: 4.499\n",
      "Median error 6m: 6.823\n",
      "Min error 3m: 0.016\n",
      "Min error 6m: 0.298\n"
     ]
    }
   ],
   "source": [
    "cyl3=np.array(cyl3mp)\n",
    "cyl3=np.abs(cyl3-400)/400*100\n",
    "\n",
    "cyl6=np.array(cyl6mp)\n",
    "cyl6=np.abs(cyl6-400)/400*100\n",
    "\n",
    "print(\"Max error 3m: %2.3f\"%np.max(cyl3))\n",
    "print(\"Max error 6m: %2.3f\"%np.max(cyl6))\n",
    "\n",
    "print(\"Mean error 3m: %2.3f\"%np.mean(cyl3))\n",
    "print(\"Mean error 6m: %2.3f\"%np.mean(cyl6))\n",
    "\n",
    "print(\"Median error 3m: %2.3f\"%np.median(cyl3))\n",
    "print(\"Median error 6m: %2.3f\"%np.median(cyl6))\n",
    "\n",
    "print(\"Min error 3m: %2.3f\"%np.min(cyl3))\n",
    "print(\"Min error 6m: %2.3f\"%np.min(cyl6))"
   ]
  },
  {
   "cell_type": "markdown",
   "metadata": {},
   "source": [
    "## доверительные интервалы по эксперимертам суммарно для 3х метров, каждый шестой элемент"
   ]
  },
  {
   "cell_type": "code",
   "execution_count": 122,
   "metadata": {},
   "outputs": [
    {
     "name": "stdout",
     "output_type": "stream",
     "text": [
      "Experiment 3m 307.06+-63.44\n",
      "Experiment 3m + Zscore 390.62+-11.87\n"
     ]
    }
   ],
   "source": [
    "cylindr3m=[]\n",
    "for i in range(5,10):\n",
    "    cylindr3m.append(df[df.columns[i]].dropna().astype(float)[::6])\n",
    "cyl3m=pd.concat(cylindr3m)\n",
    "cyl3m=cyl3m.dropna()\n",
    "z = np.abs(stats.zscore(cyl3m))\n",
    "m,h=mean_confidence_interval(cyl3m)\n",
    "print(\"Experiment 3m %2.2f+-%2.2f\" % (m, h))\n",
    "cyl3mp = cyl3m[(z < 1)]\n",
    "m,h=mean_confidence_interval(cyl3mp)\n",
    "print(\"Experiment 3m + Zscore %2.2f+-%2.2f\" % (m, h))"
   ]
  },
  {
   "cell_type": "markdown",
   "metadata": {},
   "source": [
    "## доверительные интервалы по эксперимертам суммарно для 6ти метров, каждый шестой элемент"
   ]
  },
  {
   "cell_type": "code",
   "execution_count": 123,
   "metadata": {},
   "outputs": [
    {
     "name": "stdout",
     "output_type": "stream",
     "text": [
      "Experiment 6m 356.89+-36.92\n",
      "Experiment 6m + Zscore 387.11+-14.73\n"
     ]
    }
   ],
   "source": [
    "cylindr6m=[]\n",
    "for i in range(0,5):\n",
    "    cylindr6m.append(df[df.columns[i]].dropna().astype(float)[::6])\n",
    "cyl6m=pd.concat(cylindr6m)\n",
    "cyl6m=cyl6m.dropna()\n",
    "z = np.abs(stats.zscore(cyl6m))\n",
    "m,h=mean_confidence_interval(cyl6m)\n",
    "print(\"Experiment 6m %2.2f+-%2.2f\" % (m, h))\n",
    "cyl6mp = cyl6m[(z < 1)]\n",
    "m,h=mean_confidence_interval(cyl6mp)\n",
    "print(\"Experiment 6m + Zscore %2.2f+-%2.2f\" % (m, h))"
   ]
  },
  {
   "cell_type": "code",
   "execution_count": 124,
   "metadata": {},
   "outputs": [
    {
     "name": "stdout",
     "output_type": "stream",
     "text": [
      "Max error 3m: 13.875\n",
      "Max error 6m: 28.785\n",
      "Mean error 3m: 4.669\n",
      "Mean error 6m: 7.843\n",
      "Median error 3m: 4.878\n",
      "Median error 6m: 6.823\n",
      "Min error 3m: 0.711\n",
      "Min error 6m: 0.298\n"
     ]
    }
   ],
   "source": [
    "cyl3=np.array(cyl3mp)\n",
    "cyl3=np.abs(cyl3-400)/400*100\n",
    "\n",
    "cyl6=np.array(cyl6mp)\n",
    "cyl6=np.abs(cyl6-400)/400*100\n",
    "\n",
    "print(\"Max error 3m: %2.3f\"%np.max(cyl3))\n",
    "print(\"Max error 6m: %2.3f\"%np.max(cyl6))\n",
    "\n",
    "print(\"Mean error 3m: %2.3f\"%np.mean(cyl3))\n",
    "print(\"Mean error 6m: %2.3f\"%np.mean(cyl6))\n",
    "\n",
    "print(\"Median error 3m: %2.3f\"%np.median(cyl3))\n",
    "print(\"Median error 6m: %2.3f\"%np.median(cyl6))\n",
    "\n",
    "print(\"Min error 3m: %2.3f\"%np.min(cyl3))\n",
    "print(\"Min error 6m: %2.3f\"%np.min(cyl6))"
   ]
  },
  {
   "cell_type": "code",
   "execution_count": 125,
   "metadata": {},
   "outputs": [],
   "source": [
    "df.to_excel(\"final.xlsx\")"
   ]
  },
  {
   "cell_type": "code",
   "execution_count": null,
   "metadata": {},
   "outputs": [],
   "source": []
  },
  {
   "cell_type": "code",
   "execution_count": null,
   "metadata": {},
   "outputs": [],
   "source": []
  }
 ],
 "metadata": {
  "kernelspec": {
   "display_name": "Python 3",
   "language": "python",
   "name": "python3"
  },
  "language_info": {
   "codemirror_mode": {
    "name": "ipython",
    "version": 3
   },
   "file_extension": ".py",
   "mimetype": "text/x-python",
   "name": "python",
   "nbconvert_exporter": "python",
   "pygments_lexer": "ipython3",
   "version": "3.7.6"
  }
 },
 "nbformat": 4,
 "nbformat_minor": 4
}
