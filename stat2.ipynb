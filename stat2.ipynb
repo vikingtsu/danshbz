{
 "cells": [
  {
   "cell_type": "code",
   "execution_count": 5,
   "metadata": {},
   "outputs": [],
   "source": [
    "import pandas as pd\n",
    "import numpy as np\n",
    "import scipy.stats\n",
    "import matplotlib.pyplot as plt\n",
    "from scipy import stats\n"
   ]
  },
  {
   "cell_type": "code",
   "execution_count": 7,
   "metadata": {},
   "outputs": [],
   "source": [
    "df=pd.read_csv(\"statistics.csv\")\n",
    "df=df.dropna(how='all')\n",
    "df=df.dropna(how='all',axis='columns')\n",
    "\n",
    "f5=df['f5'].str.replace(',', '.').astype(float)\n",
    "f6=df['f6'].str.replace(',', '.').astype(float)\n",
    "f7=df['f7'].str.replace(',', '.').astype(float)\n",
    "f8=df['f8'].str.replace(',', '.').astype(float)\n",
    "f9=df['f9'].str.replace(',', '.').astype(float)\n",
    "f14=df['f14'].str.replace(',', '.').astype(float)\n",
    "f15=df['f15'].str.replace(',', '.').astype(float)\n",
    "f16=df['f16'].str.replace(',', '.').astype(float)\n",
    "f17=df['f17'].str.replace(',', '.').astype(float)\n",
    "f18=df['f18'].str.replace(',', '.').astype(float)\n"
   ]
  },
  {
   "cell_type": "code",
   "execution_count": 8,
   "metadata": {},
   "outputs": [
    {
     "data": {
      "text/html": [
       "<div>\n",
       "<style scoped>\n",
       "    .dataframe tbody tr th:only-of-type {\n",
       "        vertical-align: middle;\n",
       "    }\n",
       "\n",
       "    .dataframe tbody tr th {\n",
       "        vertical-align: top;\n",
       "    }\n",
       "\n",
       "    .dataframe thead th {\n",
       "        text-align: right;\n",
       "    }\n",
       "</style>\n",
       "<table border=\"1\" class=\"dataframe\">\n",
       "  <thead>\n",
       "    <tr style=\"text-align: right;\">\n",
       "      <th></th>\n",
       "      <th>f5</th>\n",
       "      <th>f6</th>\n",
       "      <th>f7</th>\n",
       "      <th>f8</th>\n",
       "      <th>f9</th>\n",
       "      <th>f14</th>\n",
       "      <th>f15</th>\n",
       "      <th>f16</th>\n",
       "      <th>f17</th>\n",
       "      <th>f18</th>\n",
       "    </tr>\n",
       "  </thead>\n",
       "  <tbody>\n",
       "    <tr>\n",
       "      <th>1</th>\n",
       "      <td>71,21538</td>\n",
       "      <td>28,486152</td>\n",
       "      <td>156,673836</td>\n",
       "      <td>185,159988</td>\n",
       "      <td>199,403064</td>\n",
       "      <td>69,455556</td>\n",
       "      <td>86,12488944</td>\n",
       "      <td>116,6853341</td>\n",
       "      <td>188,9191123</td>\n",
       "      <td>19,44755568</td>\n",
       "    </tr>\n",
       "    <tr>\n",
       "      <th>2</th>\n",
       "      <td>213,64614</td>\n",
       "      <td>256,375368</td>\n",
       "      <td>142,43076</td>\n",
       "      <td>213,64614</td>\n",
       "      <td>427,29228</td>\n",
       "      <td>194,4755568</td>\n",
       "      <td>188,9191123</td>\n",
       "      <td>305,6044464</td>\n",
       "      <td>366,7253357</td>\n",
       "      <td>366,7253357</td>\n",
       "    </tr>\n",
       "    <tr>\n",
       "      <th>3</th>\n",
       "      <td>455,778432</td>\n",
       "      <td>427,29228</td>\n",
       "      <td>313,347672</td>\n",
       "      <td>356,0769</td>\n",
       "      <td>356,0769</td>\n",
       "      <td>177,8062234</td>\n",
       "      <td>377,8382246</td>\n",
       "      <td>425,0680027</td>\n",
       "      <td>366,7253357</td>\n",
       "      <td>388,9511136</td>\n",
       "    </tr>\n",
       "    <tr>\n",
       "      <th>4</th>\n",
       "      <td>413,049204</td>\n",
       "      <td>398,806128</td>\n",
       "      <td>327,590748</td>\n",
       "      <td>427,29228</td>\n",
       "      <td>370,319976</td>\n",
       "      <td>197,253779</td>\n",
       "      <td>380,6164469</td>\n",
       "      <td>427,846225</td>\n",
       "      <td>366,7253357</td>\n",
       "      <td>383,3946691</td>\n",
       "    </tr>\n",
       "    <tr>\n",
       "      <th>5</th>\n",
       "      <td>398,806128</td>\n",
       "      <td>384,563052</td>\n",
       "      <td>327,590748</td>\n",
       "      <td>413,049204</td>\n",
       "      <td>370,319976</td>\n",
       "      <td>402,8422248</td>\n",
       "      <td>377,8382246</td>\n",
       "      <td>425,0680027</td>\n",
       "      <td>366,7253357</td>\n",
       "      <td>383,3946691</td>\n",
       "    </tr>\n",
       "    <tr>\n",
       "      <th>6</th>\n",
       "      <td>398,806128</td>\n",
       "      <td>370,319976</td>\n",
       "      <td>313,347672</td>\n",
       "      <td>398,806128</td>\n",
       "      <td>356,0769</td>\n",
       "      <td>408,3986693</td>\n",
       "      <td>377,8382246</td>\n",
       "      <td>425,0680027</td>\n",
       "      <td>363,9471134</td>\n",
       "      <td>386,1728914</td>\n",
       "    </tr>\n",
       "    <tr>\n",
       "      <th>7</th>\n",
       "      <td>398,806128</td>\n",
       "      <td>384,563052</td>\n",
       "      <td>313,347672</td>\n",
       "      <td>384,563052</td>\n",
       "      <td>341,833824</td>\n",
       "      <td>411,1768915</td>\n",
       "      <td>383,3946691</td>\n",
       "      <td>427,846225</td>\n",
       "      <td>366,7253357</td>\n",
       "      <td>391,7293358</td>\n",
       "    </tr>\n",
       "    <tr>\n",
       "      <th>8</th>\n",
       "      <td>398,806128</td>\n",
       "      <td>398,806128</td>\n",
       "      <td>327,590748</td>\n",
       "      <td>398,806128</td>\n",
       "      <td>341,833824</td>\n",
       "      <td>416,733336</td>\n",
       "      <td>391,7293358</td>\n",
       "      <td>433,4026694</td>\n",
       "      <td>366,7253357</td>\n",
       "      <td>388,9511136</td>\n",
       "    </tr>\n",
       "    <tr>\n",
       "      <th>9</th>\n",
       "      <td>413,049204</td>\n",
       "      <td>384,563052</td>\n",
       "      <td>313,347672</td>\n",
       "      <td>413,049204</td>\n",
       "      <td>341,833824</td>\n",
       "      <td>425,0680027</td>\n",
       "      <td>380,6164469</td>\n",
       "      <td>436,1808917</td>\n",
       "      <td>372,2817802</td>\n",
       "      <td>388,9511136</td>\n",
       "    </tr>\n",
       "    <tr>\n",
       "      <th>10</th>\n",
       "      <td>398,806128</td>\n",
       "      <td>370,319976</td>\n",
       "      <td>327,590748</td>\n",
       "      <td>398,806128</td>\n",
       "      <td>341,833824</td>\n",
       "      <td>422,2897805</td>\n",
       "      <td>377,8382246</td>\n",
       "      <td>438,9591139</td>\n",
       "      <td>366,7253357</td>\n",
       "      <td>388,9511136</td>\n",
       "    </tr>\n",
       "    <tr>\n",
       "      <th>11</th>\n",
       "      <td>398,806128</td>\n",
       "      <td>370,319976</td>\n",
       "      <td>313,347672</td>\n",
       "      <td>398,806128</td>\n",
       "      <td>299,104596</td>\n",
       "      <td>422,2897805</td>\n",
       "      <td>383,3946691</td>\n",
       "      <td>436,1808917</td>\n",
       "      <td>366,7253357</td>\n",
       "      <td>386,1728914</td>\n",
       "    </tr>\n",
       "    <tr>\n",
       "      <th>12</th>\n",
       "      <td>370,319976</td>\n",
       "      <td>398,806128</td>\n",
       "      <td>327,590748</td>\n",
       "      <td>398,806128</td>\n",
       "      <td>299,104596</td>\n",
       "      <td>430,6244472</td>\n",
       "      <td>383,3946691</td>\n",
       "      <td>438,9591139</td>\n",
       "      <td>363,9471134</td>\n",
       "      <td>388,9511136</td>\n",
       "    </tr>\n",
       "    <tr>\n",
       "      <th>13</th>\n",
       "      <td>370,319976</td>\n",
       "      <td>341,833824</td>\n",
       "      <td>313,347672</td>\n",
       "      <td>356,0769</td>\n",
       "      <td>427,29228</td>\n",
       "      <td>419,5115582</td>\n",
       "      <td>383,3946691</td>\n",
       "      <td>436,1808917</td>\n",
       "      <td>366,7253357</td>\n",
       "      <td>383,3946691</td>\n",
       "    </tr>\n",
       "    <tr>\n",
       "      <th>14</th>\n",
       "      <td>413,049204</td>\n",
       "      <td>356,0769</td>\n",
       "      <td>327,590748</td>\n",
       "      <td>384,563052</td>\n",
       "      <td>341,833824</td>\n",
       "      <td>450,0720029</td>\n",
       "      <td>380,6164469</td>\n",
       "      <td>436,1808917</td>\n",
       "      <td>366,7253357</td>\n",
       "      <td>391,7293358</td>\n",
       "    </tr>\n",
       "    <tr>\n",
       "      <th>15</th>\n",
       "      <td>398,806128</td>\n",
       "      <td>356,0769</td>\n",
       "      <td>299,104596</td>\n",
       "      <td>384,563052</td>\n",
       "      <td>327,590748</td>\n",
       "      <td>425,0680027</td>\n",
       "      <td>383,3946691</td>\n",
       "      <td>444,5155584</td>\n",
       "      <td>363,9471134</td>\n",
       "      <td>386,1728914</td>\n",
       "    </tr>\n",
       "    <tr>\n",
       "      <th>16</th>\n",
       "      <td>384,563052</td>\n",
       "      <td>356,0769</td>\n",
       "      <td>313,347672</td>\n",
       "      <td>370,319976</td>\n",
       "      <td>341,833824</td>\n",
       "      <td>416,733336</td>\n",
       "      <td>380,6164469</td>\n",
       "      <td>441,7373362</td>\n",
       "      <td>366,7253357</td>\n",
       "      <td>380,6164469</td>\n",
       "    </tr>\n",
       "    <tr>\n",
       "      <th>17</th>\n",
       "      <td>370,319976</td>\n",
       "      <td>356,0769</td>\n",
       "      <td>313,347672</td>\n",
       "      <td>370,319976</td>\n",
       "      <td>370,319976</td>\n",
       "      <td>408,3986693</td>\n",
       "      <td>386,1728914</td>\n",
       "      <td>433,4026694</td>\n",
       "      <td>366,7253357</td>\n",
       "      <td>386,1728914</td>\n",
       "    </tr>\n",
       "    <tr>\n",
       "      <th>18</th>\n",
       "      <td>370,319976</td>\n",
       "      <td>370,319976</td>\n",
       "      <td>313,347672</td>\n",
       "      <td>370,319976</td>\n",
       "      <td>341,833824</td>\n",
       "      <td>400,0640026</td>\n",
       "      <td>383,3946691</td>\n",
       "      <td>438,9591139</td>\n",
       "      <td>363,9471134</td>\n",
       "      <td>383,3946691</td>\n",
       "    </tr>\n",
       "    <tr>\n",
       "      <th>19</th>\n",
       "      <td>341,833824</td>\n",
       "      <td>356,0769</td>\n",
       "      <td>313,347672</td>\n",
       "      <td>327,590748</td>\n",
       "      <td>327,590748</td>\n",
       "      <td>402,8422248</td>\n",
       "      <td>380,6164469</td>\n",
       "      <td>436,1808917</td>\n",
       "      <td>366,7253357</td>\n",
       "      <td>386,1728914</td>\n",
       "    </tr>\n",
       "    <tr>\n",
       "      <th>20</th>\n",
       "      <td>356,0769</td>\n",
       "      <td>356,0769</td>\n",
       "      <td>313,347672</td>\n",
       "      <td>370,319976</td>\n",
       "      <td>356,0769</td>\n",
       "      <td>397,2857803</td>\n",
       "      <td>377,8382246</td>\n",
       "      <td>436,1808917</td>\n",
       "      <td>361,1688912</td>\n",
       "      <td>386,1728914</td>\n",
       "    </tr>\n",
       "    <tr>\n",
       "      <th>21</th>\n",
       "      <td>384,563052</td>\n",
       "      <td>341,833824</td>\n",
       "      <td>313,347672</td>\n",
       "      <td>356,0769</td>\n",
       "      <td>370,319976</td>\n",
       "      <td>386,1728914</td>\n",
       "      <td>380,6164469</td>\n",
       "      <td>441,7373362</td>\n",
       "      <td>363,9471134</td>\n",
       "      <td>227,8142237</td>\n",
       "    </tr>\n",
       "    <tr>\n",
       "      <th>22</th>\n",
       "      <td>356,0769</td>\n",
       "      <td>341,833824</td>\n",
       "      <td>327,590748</td>\n",
       "      <td>356,0769</td>\n",
       "      <td>398,806128</td>\n",
       "      <td>380,6164469</td>\n",
       "      <td>294,4915574</td>\n",
       "      <td>425,0680027</td>\n",
       "      <td>366,7253357</td>\n",
       "      <td>227,8142237</td>\n",
       "    </tr>\n",
       "    <tr>\n",
       "      <th>23</th>\n",
       "      <td>356,0769</td>\n",
       "      <td>341,833824</td>\n",
       "      <td>327,590748</td>\n",
       "      <td>356,0769</td>\n",
       "      <td>370,319976</td>\n",
       "      <td>383,3946691</td>\n",
       "      <td>208,366668</td>\n",
       "      <td>263,9311128</td>\n",
       "      <td>41,6733336</td>\n",
       "      <td>NaN</td>\n",
       "    </tr>\n",
       "    <tr>\n",
       "      <th>24</th>\n",
       "      <td>341,833824</td>\n",
       "      <td>370,319976</td>\n",
       "      <td>313,347672</td>\n",
       "      <td>384,563052</td>\n",
       "      <td>384,563052</td>\n",
       "      <td>358,390669</td>\n",
       "      <td>208,366668</td>\n",
       "      <td>263,9311128</td>\n",
       "      <td>366,7253357</td>\n",
       "      <td>NaN</td>\n",
       "    </tr>\n",
       "    <tr>\n",
       "      <th>25</th>\n",
       "      <td>370,319976</td>\n",
       "      <td>356,0769</td>\n",
       "      <td>313,347672</td>\n",
       "      <td>370,319976</td>\n",
       "      <td>370,319976</td>\n",
       "      <td>22,22577792</td>\n",
       "      <td>NaN</td>\n",
       "      <td>NaN</td>\n",
       "      <td>41,6733336</td>\n",
       "      <td>NaN</td>\n",
       "    </tr>\n",
       "    <tr>\n",
       "      <th>26</th>\n",
       "      <td>341,833824</td>\n",
       "      <td>327,590748</td>\n",
       "      <td>327,590748</td>\n",
       "      <td>370,319976</td>\n",
       "      <td>413,049204</td>\n",
       "      <td>22,22577792</td>\n",
       "      <td>NaN</td>\n",
       "      <td>NaN</td>\n",
       "      <td>NaN</td>\n",
       "      <td>NaN</td>\n",
       "    </tr>\n",
       "    <tr>\n",
       "      <th>27</th>\n",
       "      <td>327,590748</td>\n",
       "      <td>356,0769</td>\n",
       "      <td>313,347672</td>\n",
       "      <td>341,833824</td>\n",
       "      <td>427,29228</td>\n",
       "      <td>NaN</td>\n",
       "      <td>NaN</td>\n",
       "      <td>NaN</td>\n",
       "      <td>NaN</td>\n",
       "      <td>NaN</td>\n",
       "    </tr>\n",
       "    <tr>\n",
       "      <th>28</th>\n",
       "      <td>356,0769</td>\n",
       "      <td>327,590748</td>\n",
       "      <td>313,347672</td>\n",
       "      <td>356,0769</td>\n",
       "      <td>413,049204</td>\n",
       "      <td>NaN</td>\n",
       "      <td>NaN</td>\n",
       "      <td>NaN</td>\n",
       "      <td>NaN</td>\n",
       "      <td>NaN</td>\n",
       "    </tr>\n",
       "    <tr>\n",
       "      <th>29</th>\n",
       "      <td>341,833824</td>\n",
       "      <td>299,104596</td>\n",
       "      <td>341,833824</td>\n",
       "      <td>341,833824</td>\n",
       "      <td>441,535356</td>\n",
       "      <td>NaN</td>\n",
       "      <td>NaN</td>\n",
       "      <td>NaN</td>\n",
       "      <td>NaN</td>\n",
       "      <td>NaN</td>\n",
       "    </tr>\n",
       "    <tr>\n",
       "      <th>30</th>\n",
       "      <td>341,833824</td>\n",
       "      <td>398,806128</td>\n",
       "      <td>327,590748</td>\n",
       "      <td>327,590748</td>\n",
       "      <td>398,806128</td>\n",
       "      <td>NaN</td>\n",
       "      <td>NaN</td>\n",
       "      <td>NaN</td>\n",
       "      <td>NaN</td>\n",
       "      <td>NaN</td>\n",
       "    </tr>\n",
       "    <tr>\n",
       "      <th>31</th>\n",
       "      <td>356,0769</td>\n",
       "      <td>284,86152</td>\n",
       "      <td>313,347672</td>\n",
       "      <td>327,590748</td>\n",
       "      <td>413,049204</td>\n",
       "      <td>NaN</td>\n",
       "      <td>NaN</td>\n",
       "      <td>NaN</td>\n",
       "      <td>NaN</td>\n",
       "      <td>NaN</td>\n",
       "    </tr>\n",
       "    <tr>\n",
       "      <th>32</th>\n",
       "      <td>341,833824</td>\n",
       "      <td>341,833824</td>\n",
       "      <td>327,590748</td>\n",
       "      <td>341,833824</td>\n",
       "      <td>427,29228</td>\n",
       "      <td>NaN</td>\n",
       "      <td>NaN</td>\n",
       "      <td>NaN</td>\n",
       "      <td>NaN</td>\n",
       "      <td>NaN</td>\n",
       "    </tr>\n",
       "    <tr>\n",
       "      <th>33</th>\n",
       "      <td>356,0769</td>\n",
       "      <td>341,833824</td>\n",
       "      <td>327,590748</td>\n",
       "      <td>313,347672</td>\n",
       "      <td>398,806128</td>\n",
       "      <td>NaN</td>\n",
       "      <td>NaN</td>\n",
       "      <td>NaN</td>\n",
       "      <td>NaN</td>\n",
       "      <td>NaN</td>\n",
       "    </tr>\n",
       "    <tr>\n",
       "      <th>34</th>\n",
       "      <td>313,347672</td>\n",
       "      <td>327,590748</td>\n",
       "      <td>327,590748</td>\n",
       "      <td>299,104596</td>\n",
       "      <td>398,806128</td>\n",
       "      <td>NaN</td>\n",
       "      <td>NaN</td>\n",
       "      <td>NaN</td>\n",
       "      <td>NaN</td>\n",
       "      <td>NaN</td>\n",
       "    </tr>\n",
       "    <tr>\n",
       "      <th>35</th>\n",
       "      <td>313,347672</td>\n",
       "      <td>341,833824</td>\n",
       "      <td>327,590748</td>\n",
       "      <td>313,347672</td>\n",
       "      <td>384,563052</td>\n",
       "      <td>NaN</td>\n",
       "      <td>NaN</td>\n",
       "      <td>NaN</td>\n",
       "      <td>NaN</td>\n",
       "      <td>NaN</td>\n",
       "    </tr>\n",
       "    <tr>\n",
       "      <th>36</th>\n",
       "      <td>327,590748</td>\n",
       "      <td>327,590748</td>\n",
       "      <td>313,347672</td>\n",
       "      <td>142,43076</td>\n",
       "      <td>370,319976</td>\n",
       "      <td>NaN</td>\n",
       "      <td>NaN</td>\n",
       "      <td>NaN</td>\n",
       "      <td>NaN</td>\n",
       "      <td>NaN</td>\n",
       "    </tr>\n",
       "    <tr>\n",
       "      <th>37</th>\n",
       "      <td>327,590748</td>\n",
       "      <td>356,0769</td>\n",
       "      <td>341,833824</td>\n",
       "      <td>142,43076</td>\n",
       "      <td>427,29228</td>\n",
       "      <td>NaN</td>\n",
       "      <td>NaN</td>\n",
       "      <td>NaN</td>\n",
       "      <td>NaN</td>\n",
       "      <td>NaN</td>\n",
       "    </tr>\n",
       "    <tr>\n",
       "      <th>38</th>\n",
       "      <td>299,104596</td>\n",
       "      <td>341,833824</td>\n",
       "      <td>313,347672</td>\n",
       "      <td>142,43076</td>\n",
       "      <td>370,319976</td>\n",
       "      <td>NaN</td>\n",
       "      <td>NaN</td>\n",
       "      <td>NaN</td>\n",
       "      <td>NaN</td>\n",
       "      <td>NaN</td>\n",
       "    </tr>\n",
       "    <tr>\n",
       "      <th>39</th>\n",
       "      <td>284,86152</td>\n",
       "      <td>341,833824</td>\n",
       "      <td>313,347672</td>\n",
       "      <td>128,187684</td>\n",
       "      <td>356,0769</td>\n",
       "      <td>NaN</td>\n",
       "      <td>NaN</td>\n",
       "      <td>NaN</td>\n",
       "      <td>NaN</td>\n",
       "      <td>NaN</td>\n",
       "    </tr>\n",
       "    <tr>\n",
       "      <th>40</th>\n",
       "      <td>299,104596</td>\n",
       "      <td>313,347672</td>\n",
       "      <td>356,0769</td>\n",
       "      <td>128,187684</td>\n",
       "      <td>341,833824</td>\n",
       "      <td>NaN</td>\n",
       "      <td>NaN</td>\n",
       "      <td>NaN</td>\n",
       "      <td>NaN</td>\n",
       "      <td>NaN</td>\n",
       "    </tr>\n",
       "    <tr>\n",
       "      <th>41</th>\n",
       "      <td>327,590748</td>\n",
       "      <td>313,34767200000005</td>\n",
       "      <td>113,944608</td>\n",
       "      <td>242,132292</td>\n",
       "      <td>199,403064</td>\n",
       "      <td>NaN</td>\n",
       "      <td>NaN</td>\n",
       "      <td>NaN</td>\n",
       "      <td>NaN</td>\n",
       "      <td>NaN</td>\n",
       "    </tr>\n",
       "    <tr>\n",
       "      <th>42</th>\n",
       "      <td>327,590748</td>\n",
       "      <td>NaN</td>\n",
       "      <td>113,944608</td>\n",
       "      <td>113,944608</td>\n",
       "      <td>71,21538</td>\n",
       "      <td>NaN</td>\n",
       "      <td>NaN</td>\n",
       "      <td>NaN</td>\n",
       "      <td>NaN</td>\n",
       "      <td>NaN</td>\n",
       "    </tr>\n",
       "    <tr>\n",
       "      <th>43</th>\n",
       "      <td>NaN</td>\n",
       "      <td>NaN</td>\n",
       "      <td>NaN</td>\n",
       "      <td>113,944608</td>\n",
       "      <td>71,21538</td>\n",
       "      <td>NaN</td>\n",
       "      <td>NaN</td>\n",
       "      <td>NaN</td>\n",
       "      <td>NaN</td>\n",
       "      <td>NaN</td>\n",
       "    </tr>\n",
       "  </tbody>\n",
       "</table>\n",
       "</div>"
      ],
      "text/plain": [
       "            f5                  f6          f7          f8          f9  \\\n",
       "1     71,21538           28,486152  156,673836  185,159988  199,403064   \n",
       "2    213,64614          256,375368   142,43076   213,64614   427,29228   \n",
       "3   455,778432           427,29228  313,347672    356,0769    356,0769   \n",
       "4   413,049204          398,806128  327,590748   427,29228  370,319976   \n",
       "5   398,806128          384,563052  327,590748  413,049204  370,319976   \n",
       "6   398,806128          370,319976  313,347672  398,806128    356,0769   \n",
       "7   398,806128          384,563052  313,347672  384,563052  341,833824   \n",
       "8   398,806128          398,806128  327,590748  398,806128  341,833824   \n",
       "9   413,049204          384,563052  313,347672  413,049204  341,833824   \n",
       "10  398,806128          370,319976  327,590748  398,806128  341,833824   \n",
       "11  398,806128          370,319976  313,347672  398,806128  299,104596   \n",
       "12  370,319976          398,806128  327,590748  398,806128  299,104596   \n",
       "13  370,319976          341,833824  313,347672    356,0769   427,29228   \n",
       "14  413,049204            356,0769  327,590748  384,563052  341,833824   \n",
       "15  398,806128            356,0769  299,104596  384,563052  327,590748   \n",
       "16  384,563052            356,0769  313,347672  370,319976  341,833824   \n",
       "17  370,319976            356,0769  313,347672  370,319976  370,319976   \n",
       "18  370,319976          370,319976  313,347672  370,319976  341,833824   \n",
       "19  341,833824            356,0769  313,347672  327,590748  327,590748   \n",
       "20    356,0769            356,0769  313,347672  370,319976    356,0769   \n",
       "21  384,563052          341,833824  313,347672    356,0769  370,319976   \n",
       "22    356,0769          341,833824  327,590748    356,0769  398,806128   \n",
       "23    356,0769          341,833824  327,590748    356,0769  370,319976   \n",
       "24  341,833824          370,319976  313,347672  384,563052  384,563052   \n",
       "25  370,319976            356,0769  313,347672  370,319976  370,319976   \n",
       "26  341,833824          327,590748  327,590748  370,319976  413,049204   \n",
       "27  327,590748            356,0769  313,347672  341,833824   427,29228   \n",
       "28    356,0769          327,590748  313,347672    356,0769  413,049204   \n",
       "29  341,833824          299,104596  341,833824  341,833824  441,535356   \n",
       "30  341,833824          398,806128  327,590748  327,590748  398,806128   \n",
       "31    356,0769           284,86152  313,347672  327,590748  413,049204   \n",
       "32  341,833824          341,833824  327,590748  341,833824   427,29228   \n",
       "33    356,0769          341,833824  327,590748  313,347672  398,806128   \n",
       "34  313,347672          327,590748  327,590748  299,104596  398,806128   \n",
       "35  313,347672          341,833824  327,590748  313,347672  384,563052   \n",
       "36  327,590748          327,590748  313,347672   142,43076  370,319976   \n",
       "37  327,590748            356,0769  341,833824   142,43076   427,29228   \n",
       "38  299,104596          341,833824  313,347672   142,43076  370,319976   \n",
       "39   284,86152          341,833824  313,347672  128,187684    356,0769   \n",
       "40  299,104596          313,347672    356,0769  128,187684  341,833824   \n",
       "41  327,590748  313,34767200000005  113,944608  242,132292  199,403064   \n",
       "42  327,590748                 NaN  113,944608  113,944608    71,21538   \n",
       "43         NaN                 NaN         NaN  113,944608    71,21538   \n",
       "\n",
       "            f14          f15          f16          f17          f18  \n",
       "1     69,455556  86,12488944  116,6853341  188,9191123  19,44755568  \n",
       "2   194,4755568  188,9191123  305,6044464  366,7253357  366,7253357  \n",
       "3   177,8062234  377,8382246  425,0680027  366,7253357  388,9511136  \n",
       "4    197,253779  380,6164469   427,846225  366,7253357  383,3946691  \n",
       "5   402,8422248  377,8382246  425,0680027  366,7253357  383,3946691  \n",
       "6   408,3986693  377,8382246  425,0680027  363,9471134  386,1728914  \n",
       "7   411,1768915  383,3946691   427,846225  366,7253357  391,7293358  \n",
       "8    416,733336  391,7293358  433,4026694  366,7253357  388,9511136  \n",
       "9   425,0680027  380,6164469  436,1808917  372,2817802  388,9511136  \n",
       "10  422,2897805  377,8382246  438,9591139  366,7253357  388,9511136  \n",
       "11  422,2897805  383,3946691  436,1808917  366,7253357  386,1728914  \n",
       "12  430,6244472  383,3946691  438,9591139  363,9471134  388,9511136  \n",
       "13  419,5115582  383,3946691  436,1808917  366,7253357  383,3946691  \n",
       "14  450,0720029  380,6164469  436,1808917  366,7253357  391,7293358  \n",
       "15  425,0680027  383,3946691  444,5155584  363,9471134  386,1728914  \n",
       "16   416,733336  380,6164469  441,7373362  366,7253357  380,6164469  \n",
       "17  408,3986693  386,1728914  433,4026694  366,7253357  386,1728914  \n",
       "18  400,0640026  383,3946691  438,9591139  363,9471134  383,3946691  \n",
       "19  402,8422248  380,6164469  436,1808917  366,7253357  386,1728914  \n",
       "20  397,2857803  377,8382246  436,1808917  361,1688912  386,1728914  \n",
       "21  386,1728914  380,6164469  441,7373362  363,9471134  227,8142237  \n",
       "22  380,6164469  294,4915574  425,0680027  366,7253357  227,8142237  \n",
       "23  383,3946691   208,366668  263,9311128   41,6733336          NaN  \n",
       "24   358,390669   208,366668  263,9311128  366,7253357          NaN  \n",
       "25  22,22577792          NaN          NaN   41,6733336          NaN  \n",
       "26  22,22577792          NaN          NaN          NaN          NaN  \n",
       "27          NaN          NaN          NaN          NaN          NaN  \n",
       "28          NaN          NaN          NaN          NaN          NaN  \n",
       "29          NaN          NaN          NaN          NaN          NaN  \n",
       "30          NaN          NaN          NaN          NaN          NaN  \n",
       "31          NaN          NaN          NaN          NaN          NaN  \n",
       "32          NaN          NaN          NaN          NaN          NaN  \n",
       "33          NaN          NaN          NaN          NaN          NaN  \n",
       "34          NaN          NaN          NaN          NaN          NaN  \n",
       "35          NaN          NaN          NaN          NaN          NaN  \n",
       "36          NaN          NaN          NaN          NaN          NaN  \n",
       "37          NaN          NaN          NaN          NaN          NaN  \n",
       "38          NaN          NaN          NaN          NaN          NaN  \n",
       "39          NaN          NaN          NaN          NaN          NaN  \n",
       "40          NaN          NaN          NaN          NaN          NaN  \n",
       "41          NaN          NaN          NaN          NaN          NaN  \n",
       "42          NaN          NaN          NaN          NaN          NaN  \n",
       "43          NaN          NaN          NaN          NaN          NaN  "
      ]
     },
     "execution_count": 8,
     "metadata": {},
     "output_type": "execute_result"
    }
   ],
   "source": [
    "df"
   ]
  },
  {
   "cell_type": "code",
   "execution_count": 9,
   "metadata": {},
   "outputs": [],
   "source": [
    "def mean_confidence_interval(data, confidence=0.95):\n",
    "    a = 1.0 * np.array(data)\n",
    "    n = len(a)\n",
    "    m, se = np.mean(a), scipy.stats.sem(a)\n",
    "    h = se * scipy.stats.t.ppf((1 + confidence) / 2., n-1)\n",
    "    return m, h"
   ]
  },
  {
   "cell_type": "markdown",
   "metadata": {},
   "source": [
    "## далее считаем доверительные интервалы для каждого эксперимента"
   ]
  },
  {
   "cell_type": "code",
   "execution_count": 38,
   "metadata": {},
   "outputs": [
    {
     "name": "stdout",
     "output_type": "stream",
     "text": [
      "Experiment #0 350.65+-19.21\n",
      "Experiment #1 344.27+-18.96\n",
      "Experiment #2 302.83+-17.89\n",
      "Experiment #3 316.99+-29.65\n",
      "Experiment #4 351.11+-24.81\n",
      "Experiment #5 340.44+-53.87\n",
      "Experiment #6 343.23+-34.88\n",
      "Experiment #7 401.45+-34.14\n",
      "Experiment #8 333.05+-39.04\n",
      "Experiment #9 354.60+-39.09\n"
     ]
    }
   ],
   "source": [
    "for i in range(10):\n",
    "    m,h=mean_confidence_interval(df[df.columns[i]].dropna().str.replace(',', '.').astype(float))\n",
    "    print(\"Experiment #%i %2.2f+-%2.2f\" % (i, m, h))"
   ]
  },
  {
   "cell_type": "markdown",
   "metadata": {},
   "source": [
    "## доверительные интервалы для каждого эксперимента + Zscore"
   ]
  },
  {
   "cell_type": "code",
   "execution_count": 44,
   "metadata": {},
   "outputs": [
    {
     "name": "stdout",
     "output_type": "stream",
     "text": [
      "Experiment #0 356.08+-10.34\n",
      "Experiment #1 354.54+-8.36\n",
      "Experiment #2 320.84+-3.57\n",
      "Experiment #3 357.00+-12.79\n",
      "Experiment #4 371.44+-11.64\n",
      "Experiment #5 408.40+-9.66\n",
      "Experiment #6 377.28+-9.26\n",
      "Experiment #7 434.24+-2.90\n",
      "Experiment #8 366.09+-0.93\n",
      "Experiment #9 385.59+-2.62\n"
     ]
    }
   ],
   "source": [
    "for i in range(10):\n",
    "    temp=df[df.columns[i]].dropna().str.replace(',', '.').astype(float)\n",
    "    z = np.abs(stats.zscore(temp))\n",
    "    temp1 = temp[(z < 1)]\n",
    "    m,h=mean_confidence_interval(temp1)\n",
    "    print(\"Experiment #%i %2.2f+-%2.2f\" % (i, m, h))"
   ]
  },
  {
   "cell_type": "markdown",
   "metadata": {},
   "source": [
    "## доверительные интервалы по эксперимертам суммарно для 3х метров"
   ]
  },
  {
   "cell_type": "code",
   "execution_count": 79,
   "metadata": {},
   "outputs": [
    {
     "name": "stdout",
     "output_type": "stream",
     "text": [
      "Experiment 3m 354.14+-18.02\n",
      "Experiment 3m + Zscore 390.50+-6.58\n"
     ]
    }
   ],
   "source": [
    "cylindr3m=[f14,f15,f16,f17,f18]\n",
    "cyl3m=pd.concat(cylindr3m)\n",
    "cyl3m=cyl3m.dropna()\n",
    "z = np.abs(stats.zscore(cyl3m))\n",
    "m,h=mean_confidence_interval(cyl3m)\n",
    "print(\"Experiment 3m %2.2f+-%2.2f\" % (m, h))\n",
    "cyl3mp = cyl3m[(z < 1)]\n",
    "m,h=mean_confidence_interval(cyl3mp)\n",
    "print(\"Experiment 3m + Zscore %2.2f+-%2.2f\" % (m, h))"
   ]
  },
  {
   "cell_type": "markdown",
   "metadata": {},
   "source": [
    "## доверительные интервалы по эксперимертам суммарно для 6х метров"
   ]
  },
  {
   "cell_type": "code",
   "execution_count": 53,
   "metadata": {},
   "outputs": [
    {
     "name": "stdout",
     "output_type": "stream",
     "text": [
      "Experiment 6m 333.13+-10.17\n",
      "Experiment 6m + Zscore 348.29+-4.44\n"
     ]
    }
   ],
   "source": [
    "cylindr6m=[f5,f6,f7,f8,f9]\n",
    "cyl6m=pd.concat(cylindr6m)\n",
    "cyl6m=cyl6m.dropna()\n",
    "z = np.abs(stats.zscore(cyl6m))\n",
    "\n",
    "m,h=mean_confidence_interval(cyl6m)\n",
    "print(\"Experiment 6m %2.2f+-%2.2f\" % (m, h))\n",
    "cyl6mp = cyl6m[(z < 1)]\n",
    "m,h=mean_confidence_interval(cyl6mp)\n",
    "print(\"Experiment 6m + Zscore %2.2f+-%2.2f\" % (m, h))\n"
   ]
  },
  {
   "cell_type": "markdown",
   "metadata": {},
   "source": [
    "## относительные ошибки в процентах"
   ]
  },
  {
   "cell_type": "code",
   "execution_count": 61,
   "metadata": {},
   "outputs": [
    {
     "name": "stdout",
     "output_type": "stream",
     "text": [
      "Max error 3m: 34.017\n",
      "Max error 6m: 28.785\n",
      "Mean error 3m: 6.927\n",
      "Mean error 6m: 12.927\n",
      "Median error 3m: 5.920\n",
      "Median error 6m: 14.542\n",
      "Min error 3m: 0.016\n",
      "Min error 6m: 0.298\n"
     ]
    }
   ],
   "source": [
    "cyl3=np.array(cyl3mp)\n",
    "cyl3=np.abs(cyl3-400)/400*100\n",
    "\n",
    "cyl6=np.array(cyl6mp)\n",
    "cyl6=np.abs(cyl6-400)/400*100\n",
    "\n",
    "print(\"Max error 3m: %2.3f\"%np.max(cyl3))\n",
    "print(\"Max error 6m: %2.3f\"%np.max(cyl6))\n",
    "\n",
    "print(\"Mean error 3m: %2.3f\"%np.mean(cyl3))\n",
    "print(\"Mean error 6m: %2.3f\"%np.mean(cyl6))\n",
    "\n",
    "print(\"Median error 3m: %2.3f\"%np.median(cyl3))\n",
    "print(\"Median error 6m: %2.3f\"%np.median(cyl6))\n",
    "\n",
    "print(\"Min error 3m: %2.3f\"%np.min(cyl3))\n",
    "print(\"Min error 6m: %2.3f\"%np.min(cyl6))"
   ]
  },
  {
   "cell_type": "markdown",
   "metadata": {},
   "source": [
    "## все ошибки"
   ]
  },
  {
   "cell_type": "code",
   "execution_count": 307,
   "metadata": {},
   "outputs": [
    {
     "name": "stdout",
     "output_type": "stream",
     "text": [
      "[ 0.71  2.1   2.79  4.18  6.27  5.57  5.57  7.66  4.88 12.52  6.27  4.18\n",
      "  2.1   0.02  0.71  0.68  3.46  4.85  4.15 10.4   5.54  4.85  5.54  5.54\n",
      "  4.15  2.07  4.85  5.54  4.15  4.15  4.15  4.85  4.15  4.85  3.46  4.15\n",
      "  4.85  5.54  4.85 26.38 23.6   6.27  6.96  6.27  6.27  6.96  8.35  9.05\n",
      "  9.74  9.05  9.74  9.05  9.05 11.13 10.43  8.35  9.74  9.05  9.05 10.43\n",
      "  6.27  8.32  8.32  8.32  8.32  9.01  8.32  8.32  6.93  8.32  8.32  9.01\n",
      "  8.32  8.32  9.01  8.32  8.32  9.01  8.32  9.71  9.01  8.32  8.32  8.32\n",
      "  2.76  4.15  4.15  3.46  2.07  2.76  2.76  2.76  3.46  2.76  4.15  2.07\n",
      "  3.46  4.85  3.46  4.15  3.46  3.46]\n"
     ]
    }
   ],
   "source": [
    "np.set_printoptions(precision=2,suppress=True)\n",
    "print(np.array(cyl3))"
   ]
  },
  {
   "cell_type": "code",
   "execution_count": 308,
   "metadata": {},
   "outputs": [
    {
     "name": "stdout",
     "output_type": "stream",
     "text": [
      "[ 0.3   0.3   0.3   0.3   0.3   0.3   7.42  7.42  0.3   3.86  7.42  7.42\n",
      " 14.54 10.98  3.86 10.98 10.98 14.54  7.42 14.54 18.1  10.98 14.54 14.54\n",
      " 10.98 14.54 10.98 21.66 21.66 18.1  18.1  25.22 28.78 25.22 18.1  18.1\n",
      "  0.3   3.86  7.42  3.86  0.3   3.86  7.42  7.42  0.3  14.54 10.98 10.98\n",
      " 10.98 10.98  7.42 10.98 10.98 14.54 14.54 14.54  7.42 10.98 18.1  10.98\n",
      " 18.1  25.22  0.3  28.78 14.54 14.54 18.1  14.54 18.1  10.98 14.54 14.54\n",
      " 21.66 21.66 21.66 18.1  18.1  21.66 21.66 18.1  21.66 18.1  21.66 18.1\n",
      " 21.66 18.1  25.22 21.66 21.66 21.66 21.66 21.66 21.66 18.1  18.1  21.66\n",
      " 21.66 18.1  21.66 21.66 14.54 18.1  21.66 18.1  18.1  18.1  18.1  21.66\n",
      " 14.54 21.66 21.66 10.98 10.98  0.3   3.86  0.3   0.3   0.3   0.3  10.98\n",
      "  3.86  3.86  7.42  7.42  7.42 18.1   7.42 10.98 10.98 10.98  3.86  7.42\n",
      "  7.42 14.54 10.98 14.54 18.1  18.1  14.54 21.66 25.22 21.66 10.98  7.42\n",
      "  7.42 10.98 14.54 14.54 14.54 14.54 25.22 25.22 14.54 18.1  14.54  7.42\n",
      " 14.54 18.1  10.98  7.42  0.3   7.42  3.86  7.42  0.3   0.3   0.3   3.86\n",
      "  7.42  7.42 10.98 14.54]\n"
     ]
    }
   ],
   "source": [
    "np.set_printoptions(precision=2,suppress=True)\n",
    "print(np.array(cyl6))"
   ]
  },
  {
   "cell_type": "markdown",
   "metadata": {},
   "source": [
    "## далее для каждого второго, третьего и четвертого элементов"
   ]
  },
  {
   "cell_type": "markdown",
   "metadata": {},
   "source": [
    "## для каждого второго"
   ]
  },
  {
   "cell_type": "code",
   "execution_count": 63,
   "metadata": {},
   "outputs": [
    {
     "name": "stdout",
     "output_type": "stream",
     "text": [
      "Experiment #0 350.65+-34.09\n",
      "Experiment #1 336.41+-35.00\n",
      "Experiment #2 301.14+-25.71\n",
      "Experiment #3 315.29+-40.80\n",
      "Experiment #4 345.07+-38.97\n",
      "Experiment #5 335.10+-87.12\n",
      "Experiment #6 342.65+-60.33\n",
      "Experiment #7 393.58+-63.65\n",
      "Experiment #8 303.04+-76.09\n",
      "Experiment #9 338.94+-78.08\n"
     ]
    }
   ],
   "source": [
    "for i in range(10):\n",
    "    m,h=mean_confidence_interval(df[df.columns[i]].dropna().str.replace(',', '.').astype(float).to_numpy()[::2])\n",
    "    print(\"Experiment #%i %2.2f+-%2.2f\" % (i, m, h))"
   ]
  },
  {
   "cell_type": "markdown",
   "metadata": {},
   "source": [
    "## для каждого третьего"
   ]
  },
  {
   "cell_type": "code",
   "execution_count": 68,
   "metadata": {},
   "outputs": [
    {
     "name": "stdout",
     "output_type": "stream",
     "text": [
      "Experiment #0 339.80+-48.48\n",
      "Experiment #1 324.54+-51.93\n",
      "Experiment #2 311.31+-26.77\n",
      "Experiment #3 302.90+-58.46\n",
      "Experiment #4 345.63+-52.61\n",
      "Experiment #5 304.68+-125.42\n",
      "Experiment #6 333.39+-87.29\n",
      "Experiment #7 393.81+-93.75\n",
      "Experiment #8 310.85+-89.80\n",
      "Experiment #9 320.19+-111.64\n"
     ]
    }
   ],
   "source": [
    "for i in range(10):\n",
    "    m,h=mean_confidence_interval(df[df.columns[i]].dropna().str.replace(',', '.').astype(float).to_numpy()[::3])\n",
    "    print(\"Experiment #%i %2.2f+-%2.2f\" % (i, m, h))"
   ]
  },
  {
   "cell_type": "markdown",
   "metadata": {},
   "source": [
    "## для каждого четвертого"
   ]
  },
  {
   "cell_type": "code",
   "execution_count": 71,
   "metadata": {},
   "outputs": [
    {
     "name": "stdout",
     "output_type": "stream",
     "text": [
      "Experiment #0 339.24+-62.43\n",
      "Experiment #1 318.53+-66.88\n",
      "Experiment #2 288.75+-51.90\n",
      "Experiment #3 318.53+-60.56\n",
      "Experiment #4 356.08+-55.96\n",
      "Experiment #5 304.81+-164.50\n",
      "Experiment #6 332.46+-126.68\n",
      "Experiment #7 381.54+-136.29\n",
      "Experiment #8 295.29+-120.34\n",
      "Experiment #9 298.20+-157.87\n"
     ]
    }
   ],
   "source": [
    "for i in range(10):\n",
    "    m,h=mean_confidence_interval(df[df.columns[i]].dropna().str.replace(',', '.').astype(float).to_numpy()[::4])\n",
    "    print(\"Experiment #%i %2.2f+-%2.2f\" % (i, m, h))"
   ]
  },
  {
   "cell_type": "markdown",
   "metadata": {},
   "source": [
    "## для каждого второго + Z-score"
   ]
  },
  {
   "cell_type": "code",
   "execution_count": 73,
   "metadata": {},
   "outputs": [
    {
     "name": "stdout",
     "output_type": "stream",
     "text": [
      "Experiment #0 359.83+-16.63\n",
      "Experiment #1 347.83+-12.81\n",
      "Experiment #2 318.60+-5.22\n",
      "Experiment #3 346.28+-19.93\n",
      "Experiment #4 371.11+-18.42\n",
      "Experiment #5 408.68+-10.82\n",
      "Experiment #6 381.73+-1.92\n",
      "Experiment #7 434.24+-4.69\n",
      "Experiment #8 350.56+-36.05\n",
      "Experiment #9 386.79+-2.08\n"
     ]
    }
   ],
   "source": [
    "for i in range(10):\n",
    "    temp=df[df.columns[i]].dropna().str.replace(',', '.').astype(float).to_numpy()[::2]\n",
    "    z = np.abs(stats.zscore(temp))\n",
    "    temp1 = temp[(z < 1)]\n",
    "    m,h=mean_confidence_interval(temp1)\n",
    "    print(\"Experiment #%i %2.2f+-%2.2f\" % (i, m, h))"
   ]
  },
  {
   "cell_type": "markdown",
   "metadata": {},
   "source": [
    "## для каждого третьего + Z-score"
   ]
  },
  {
   "cell_type": "code",
   "execution_count": 76,
   "metadata": {},
   "outputs": [
    {
     "name": "stdout",
     "output_type": "stream",
     "text": [
      "Experiment #0 360.46+-20.60\n",
      "Experiment #1 347.31+-18.10\n",
      "Experiment #2 320.47+-6.10\n",
      "Experiment #3 354.65+-21.18\n",
      "Experiment #4 377.99+-22.12\n",
      "Experiment #5 378.63+-75.11\n",
      "Experiment #6 368.71+-30.32\n",
      "Experiment #7 433.40+-5.93\n",
      "Experiment #8 366.73+-0.00\n",
      "Experiment #9 363.15+-55.30\n"
     ]
    }
   ],
   "source": [
    "for i in range(10):\n",
    "    temp=df[df.columns[i]].dropna().str.replace(',', '.').astype(float).to_numpy()[::3]\n",
    "    z = np.abs(stats.zscore(temp))\n",
    "    temp1 = temp[(z < 1)]\n",
    "    m,h=mean_confidence_interval(temp1)\n",
    "    print(\"Experiment #%i %2.2f+-%2.2f\" % (i, m, h))"
   ]
  },
  {
   "cell_type": "markdown",
   "metadata": {},
   "source": [
    "## для каждого четвертого + Z-score"
   ]
  },
  {
   "cell_type": "code",
   "execution_count": 77,
   "metadata": {},
   "outputs": [
    {
     "name": "stdout",
     "output_type": "stream",
     "text": [
      "Experiment #0 366.05+-20.41\n",
      "Experiment #1 347.53+-19.33\n",
      "Experiment #2 322.84+-9.48\n",
      "Experiment #3 335.73+-42.25\n",
      "Experiment #4 384.56+-25.46\n",
      "Experiment #5 408.40+-18.89\n",
      "Experiment #6 381.73+-3.93\n",
      "Experiment #7 434.51+-7.56\n",
      "Experiment #8 337.55+-76.47\n",
      "Experiment #9 353.95+-87.60\n"
     ]
    }
   ],
   "source": [
    "for i in range(10):\n",
    "    temp=df[df.columns[i]].dropna().str.replace(',', '.').astype(float).to_numpy()[::4]\n",
    "    z = np.abs(stats.zscore(temp))\n",
    "    temp1 = temp[(z < 1)]\n",
    "    m,h=mean_confidence_interval(temp1)\n",
    "    print(\"Experiment #%i %2.2f+-%2.2f\" % (i, m, h))"
   ]
  },
  {
   "cell_type": "markdown",
   "metadata": {},
   "source": [
    "## доверительные интервалы по эксперимертам суммарно для 3х метров, каждый второй элемент"
   ]
  },
  {
   "cell_type": "code",
   "execution_count": 84,
   "metadata": {},
   "outputs": [
    {
     "name": "stdout",
     "output_type": "stream",
     "text": [
      "Experiment 3m 341.95+-30.24\n",
      "Experiment 3m + Zscore 389.93+-10.82\n"
     ]
    }
   ],
   "source": [
    "cylindr3m=[]\n",
    "for i in range(5,10):\n",
    "    cylindr3m.append(df[df.columns[i]].dropna().str.replace(',', '.').astype(float)[::2])\n",
    "cyl3m=pd.concat(cylindr3m)\n",
    "cyl3m=cyl3m.dropna()\n",
    "z = np.abs(stats.zscore(cyl3m))\n",
    "m,h=mean_confidence_interval(cyl3m)\n",
    "print(\"Experiment 3m %2.2f+-%2.2f\" % (m, h))\n",
    "cyl3mp = cyl3m[(z < 1)]\n",
    "m,h=mean_confidence_interval(cyl3mp)\n",
    "print(\"Experiment 3m + Zscore %2.2f+-%2.2f\" % (m, h))\n"
   ]
  },
  {
   "cell_type": "markdown",
   "metadata": {},
   "source": [
    "## доверительные интервалы по эксперимертам суммарно для 6ти метров, каждый второй элемент"
   ]
  },
  {
   "cell_type": "code",
   "execution_count": 88,
   "metadata": {},
   "outputs": [
    {
     "name": "stdout",
     "output_type": "stream",
     "text": [
      "Experiment 6m 329.72+-15.25\n",
      "Experiment 6m + Zscore 345.52+-6.24\n"
     ]
    }
   ],
   "source": [
    "cylindr6m=[]\n",
    "for i in range(0,5):\n",
    "    cylindr6m.append(df[df.columns[i]].dropna().str.replace(',', '.').astype(float)[::2])\n",
    "cyl6m=pd.concat(cylindr6m)\n",
    "cyl6m=cyl6m.dropna()\n",
    "z = np.abs(stats.zscore(cyl6m))\n",
    "m,h=mean_confidence_interval(cyl6m)\n",
    "print(\"Experiment 6m %2.2f+-%2.2f\" % (m, h))\n",
    "cyl6mp = cyl6m[(z < 1)]\n",
    "m,h=mean_confidence_interval(cyl6mp)\n",
    "print(\"Experiment 6m + Zscore %2.2f+-%2.2f\" % (m, h))"
   ]
  },
  {
   "cell_type": "code",
   "execution_count": 94,
   "metadata": {},
   "outputs": [
    {
     "name": "stdout",
     "output_type": "stream",
     "text": [
      "Max error 3m: 52.770\n",
      "Max error 6m: 39.467\n",
      "Mean error 3m: 9.024\n",
      "Mean error 6m: 13.413\n",
      "Median error 3m: 5.904\n",
      "Median error 6m: 14.542\n",
      "Min error 3m: 0.711\n",
      "Min error 6m: 0.298\n"
     ]
    }
   ],
   "source": [
    "cyl3=np.array(cyl3mp)\n",
    "cyl3=np.abs(cyl3-400)/400*100\n",
    "\n",
    "cyl6=np.array(cyl6mp)\n",
    "cyl6=np.abs(cyl6-400)/400*100\n",
    "\n",
    "print(\"Max error 3m: %2.3f\"%np.max(cyl3))\n",
    "print(\"Max error 6m: %2.3f\"%np.max(cyl6))\n",
    "\n",
    "print(\"Mean error 3m: %2.3f\"%np.mean(cyl3))\n",
    "print(\"Mean error 6m: %2.3f\"%np.mean(cyl6))\n",
    "\n",
    "print(\"Median error 3m: %2.3f\"%np.median(cyl3))\n",
    "print(\"Median error 6m: %2.3f\"%np.median(cyl6))\n",
    "\n",
    "print(\"Min error 3m: %2.3f\"%np.min(cyl3))\n",
    "print(\"Min error 6m: %2.3f\"%np.min(cyl6))"
   ]
  },
  {
   "cell_type": "markdown",
   "metadata": {},
   "source": [
    "## доверительные интервалы по эксперимертам суммарно для 3х метров, каждый третий элемент"
   ]
  },
  {
   "cell_type": "code",
   "execution_count": 89,
   "metadata": {},
   "outputs": [
    {
     "name": "stdout",
     "output_type": "stream",
     "text": [
      "Experiment 3m 331.40+-39.35\n",
      "Experiment 3m + Zscore 387.56+-14.43\n"
     ]
    }
   ],
   "source": [
    "cylindr3m=[]\n",
    "for i in range(5,10):\n",
    "    cylindr3m.append(df[df.columns[i]].dropna().str.replace(',', '.').astype(float)[::3])\n",
    "cyl3m=pd.concat(cylindr3m)\n",
    "cyl3m=cyl3m.dropna()\n",
    "z = np.abs(stats.zscore(cyl3m))\n",
    "m,h=mean_confidence_interval(cyl3m)\n",
    "print(\"Experiment 3m %2.2f+-%2.2f\" % (m, h))\n",
    "cyl3mp = cyl3m[(z < 1)]\n",
    "m,h=mean_confidence_interval(cyl3mp)\n",
    "print(\"Experiment 3m + Zscore %2.2f+-%2.2f\" % (m, h))"
   ]
  },
  {
   "cell_type": "markdown",
   "metadata": {},
   "source": [
    "## доверительные интервалы по эксперимертам суммарно для 6ти метров, каждый третий элемент"
   ]
  },
  {
   "cell_type": "code",
   "execution_count": 90,
   "metadata": {},
   "outputs": [
    {
     "name": "stdout",
     "output_type": "stream",
     "text": [
      "Experiment 6m 324.82+-20.24\n",
      "Experiment 6m + Zscore 346.83+-7.74\n"
     ]
    }
   ],
   "source": [
    "cylindr6m=[]\n",
    "for i in range(0,5):\n",
    "    cylindr6m.append(df[df.columns[i]].dropna().str.replace(',', '.').astype(float)[::3])\n",
    "cyl6m=pd.concat(cylindr6m)\n",
    "cyl6m=cyl6m.dropna()\n",
    "z = np.abs(stats.zscore(cyl6m))\n",
    "m,h=mean_confidence_interval(cyl6m)\n",
    "print(\"Experiment 6m %2.2f+-%2.2f\" % (m, h))\n",
    "cyl6mp = cyl6m[(z < 1)]\n",
    "m,h=mean_confidence_interval(cyl6mp)\n",
    "print(\"Experiment 6m + Zscore %2.2f+-%2.2f\" % (m, h))"
   ]
  },
  {
   "cell_type": "code",
   "execution_count": null,
   "metadata": {},
   "outputs": [],
   "source": []
  },
  {
   "cell_type": "markdown",
   "metadata": {},
   "source": [
    "## доверительные интервалы по эксперимертам суммарно для 3х метров, каждый четвертый элемент"
   ]
  },
  {
   "cell_type": "code",
   "execution_count": 91,
   "metadata": {},
   "outputs": [
    {
     "name": "stdout",
     "output_type": "stream",
     "text": [
      "Experiment 3m 321.06+-49.91\n",
      "Experiment 3m + Zscore 381.47+-22.94\n"
     ]
    }
   ],
   "source": [
    "cylindr3m=[]\n",
    "for i in range(5,10):\n",
    "    cylindr3m.append(df[df.columns[i]].dropna().str.replace(',', '.').astype(float)[::4])\n",
    "cyl3m=pd.concat(cylindr3m)\n",
    "cyl3m=cyl3m.dropna()\n",
    "z = np.abs(stats.zscore(cyl3m))\n",
    "m,h=mean_confidence_interval(cyl3m)\n",
    "print(\"Experiment 3m %2.2f+-%2.2f\" % (m, h))\n",
    "cyl3mp = cyl3m[(z < 1)]\n",
    "m,h=mean_confidence_interval(cyl3mp)\n",
    "print(\"Experiment 3m + Zscore %2.2f+-%2.2f\" % (m, h))"
   ]
  },
  {
   "cell_type": "markdown",
   "metadata": {},
   "source": [
    "## доверительные интервалы по эксперимертам суммарно для 6ти метров, каждый четвертый элемент"
   ]
  },
  {
   "cell_type": "code",
   "execution_count": 93,
   "metadata": {},
   "outputs": [
    {
     "name": "stdout",
     "output_type": "stream",
     "text": [
      "Experiment 6m 324.22+-23.95\n",
      "Experiment 6m + Zscore 346.35+-9.72\n"
     ]
    }
   ],
   "source": [
    "cylindr6m=[]\n",
    "for i in range(0,5):\n",
    "    cylindr6m.append(df[df.columns[i]].dropna().str.replace(',', '.').astype(float)[::4])\n",
    "cyl6m=pd.concat(cylindr6m)\n",
    "cyl6m=cyl6m.dropna()\n",
    "z = np.abs(stats.zscore(cyl6m))\n",
    "m,h=mean_confidence_interval(cyl6m)\n",
    "print(\"Experiment 6m %2.2f+-%2.2f\" % (m, h))\n",
    "cyl6mp = cyl6m[(z < 1)]\n",
    "m,h=mean_confidence_interval(cyl6mp)\n",
    "print(\"Experiment 6m + Zscore %2.2f+-%2.2f\" % (m, h))"
   ]
  },
  {
   "cell_type": "code",
   "execution_count": null,
   "metadata": {},
   "outputs": [],
   "source": []
  }
 ],
 "metadata": {
  "kernelspec": {
   "display_name": "Python 3",
   "language": "python",
   "name": "python3"
  },
  "language_info": {
   "codemirror_mode": {
    "name": "ipython",
    "version": 3
   },
   "file_extension": ".py",
   "mimetype": "text/x-python",
   "name": "python",
   "nbconvert_exporter": "python",
   "pygments_lexer": "ipython3",
   "version": "3.7.6"
  }
 },
 "nbformat": 4,
 "nbformat_minor": 4
}
